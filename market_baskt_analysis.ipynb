{
  "cells": [
    {
      "cell_type": "markdown",
      "metadata": {
        "id": "view-in-github",
        "colab_type": "text"
      },
      "source": [
        "<a href=\"https://colab.research.google.com/github/MattiaParavisi/AMD-2022-2023-project/blob/master/market_baskt_analysis.ipynb\" target=\"_parent\"><img src=\"https://colab.research.google.com/assets/colab-badge.svg\" alt=\"Open In Colab\"/></a>"
      ]
    },
    {
      "cell_type": "markdown",
      "metadata": {
        "id": "31UhCw4g7Uum"
      },
      "source": [
        "# Market Basket Analysis"
      ]
    },
    {
      "cell_type": "markdown",
      "metadata": {
        "id": "DgDtMB6l4o4I"
      },
      "source": [
        "In this first phase i just install pyspark and set up the spark context. There are no modifications to be done to execute the code."
      ]
    },
    {
      "cell_type": "code",
      "execution_count": null,
      "metadata": {
        "colab": {
          "base_uri": "https://localhost:8080/"
        },
        "id": "9R2OpPZI3fAF",
        "outputId": "b34c83a9-b2fa-4bd9-ef9d-f57843f0298c"
      },
      "outputs": [
        {
          "output_type": "stream",
          "name": "stdout",
          "text": [
            "Looking in indexes: https://pypi.org/simple, https://us-python.pkg.dev/colab-wheels/public/simple/\n",
            "Collecting pyspark\n",
            "  Downloading pyspark-3.4.0.tar.gz (310.8 MB)\n",
            "\u001b[2K     \u001b[90m━━━━━━━━━━━━━━━━━━━━━━━━━━━━━━━━━━━━━━━\u001b[0m \u001b[32m310.8/310.8 MB\u001b[0m \u001b[31m2.3 MB/s\u001b[0m eta \u001b[36m0:00:00\u001b[0m\n",
            "\u001b[?25h  Preparing metadata (setup.py) ... \u001b[?25l\u001b[?25hdone\n",
            "Requirement already satisfied: py4j==0.10.9.7 in /usr/local/lib/python3.10/dist-packages (from pyspark) (0.10.9.7)\n",
            "Building wheels for collected packages: pyspark\n",
            "  Building wheel for pyspark (setup.py) ... \u001b[?25l\u001b[?25hdone\n",
            "  Created wheel for pyspark: filename=pyspark-3.4.0-py2.py3-none-any.whl size=311317130 sha256=b161fec88ecee55f37ac6ec4505f441a445bc0524a9b4ebefdc5bef3e2fbccc2\n",
            "  Stored in directory: /root/.cache/pip/wheels/7b/1b/4b/3363a1d04368e7ff0d408e57ff57966fcdf00583774e761327\n",
            "Successfully built pyspark\n",
            "Installing collected packages: pyspark\n",
            "Successfully installed pyspark-3.4.0\n"
          ]
        }
      ],
      "source": [
        "!pip install pyspark\n",
        "import pyspark\n",
        "from pyspark.sql import SparkSession\n",
        "\n",
        "spark = SparkSession.builder.getOrCreate()\n",
        "sc = spark.sparkContext"
      ]
    },
    {
      "cell_type": "markdown",
      "metadata": {
        "id": "Jagkszdq5OdM"
      },
      "source": [
        "I proceed with the kaggle-api installation. In this phase is required to upload a .json file with kaggle username and password. After the upload phase the dataset required by the project will be automatically downloaded."
      ]
    },
    {
      "cell_type": "code",
      "execution_count": null,
      "metadata": {
        "id": "aJTHfabd5IX6",
        "colab": {
          "base_uri": "https://localhost:8080/",
          "height": 125
        },
        "outputId": "58db9b77-8959-4337-b40f-812109d079f1"
      },
      "outputs": [
        {
          "output_type": "display_data",
          "data": {
            "text/plain": [
              "<IPython.core.display.HTML object>"
            ],
            "text/html": [
              "\n",
              "     <input type=\"file\" id=\"files-2ffcd657-0cd6-4d43-aa86-ba0de89220ef\" name=\"files[]\" multiple disabled\n",
              "        style=\"border:none\" />\n",
              "     <output id=\"result-2ffcd657-0cd6-4d43-aa86-ba0de89220ef\">\n",
              "      Upload widget is only available when the cell has been executed in the\n",
              "      current browser session. Please rerun this cell to enable.\n",
              "      </output>\n",
              "      <script>// Copyright 2017 Google LLC\n",
              "//\n",
              "// Licensed under the Apache License, Version 2.0 (the \"License\");\n",
              "// you may not use this file except in compliance with the License.\n",
              "// You may obtain a copy of the License at\n",
              "//\n",
              "//      http://www.apache.org/licenses/LICENSE-2.0\n",
              "//\n",
              "// Unless required by applicable law or agreed to in writing, software\n",
              "// distributed under the License is distributed on an \"AS IS\" BASIS,\n",
              "// WITHOUT WARRANTIES OR CONDITIONS OF ANY KIND, either express or implied.\n",
              "// See the License for the specific language governing permissions and\n",
              "// limitations under the License.\n",
              "\n",
              "/**\n",
              " * @fileoverview Helpers for google.colab Python module.\n",
              " */\n",
              "(function(scope) {\n",
              "function span(text, styleAttributes = {}) {\n",
              "  const element = document.createElement('span');\n",
              "  element.textContent = text;\n",
              "  for (const key of Object.keys(styleAttributes)) {\n",
              "    element.style[key] = styleAttributes[key];\n",
              "  }\n",
              "  return element;\n",
              "}\n",
              "\n",
              "// Max number of bytes which will be uploaded at a time.\n",
              "const MAX_PAYLOAD_SIZE = 100 * 1024;\n",
              "\n",
              "function _uploadFiles(inputId, outputId) {\n",
              "  const steps = uploadFilesStep(inputId, outputId);\n",
              "  const outputElement = document.getElementById(outputId);\n",
              "  // Cache steps on the outputElement to make it available for the next call\n",
              "  // to uploadFilesContinue from Python.\n",
              "  outputElement.steps = steps;\n",
              "\n",
              "  return _uploadFilesContinue(outputId);\n",
              "}\n",
              "\n",
              "// This is roughly an async generator (not supported in the browser yet),\n",
              "// where there are multiple asynchronous steps and the Python side is going\n",
              "// to poll for completion of each step.\n",
              "// This uses a Promise to block the python side on completion of each step,\n",
              "// then passes the result of the previous step as the input to the next step.\n",
              "function _uploadFilesContinue(outputId) {\n",
              "  const outputElement = document.getElementById(outputId);\n",
              "  const steps = outputElement.steps;\n",
              "\n",
              "  const next = steps.next(outputElement.lastPromiseValue);\n",
              "  return Promise.resolve(next.value.promise).then((value) => {\n",
              "    // Cache the last promise value to make it available to the next\n",
              "    // step of the generator.\n",
              "    outputElement.lastPromiseValue = value;\n",
              "    return next.value.response;\n",
              "  });\n",
              "}\n",
              "\n",
              "/**\n",
              " * Generator function which is called between each async step of the upload\n",
              " * process.\n",
              " * @param {string} inputId Element ID of the input file picker element.\n",
              " * @param {string} outputId Element ID of the output display.\n",
              " * @return {!Iterable<!Object>} Iterable of next steps.\n",
              " */\n",
              "function* uploadFilesStep(inputId, outputId) {\n",
              "  const inputElement = document.getElementById(inputId);\n",
              "  inputElement.disabled = false;\n",
              "\n",
              "  const outputElement = document.getElementById(outputId);\n",
              "  outputElement.innerHTML = '';\n",
              "\n",
              "  const pickedPromise = new Promise((resolve) => {\n",
              "    inputElement.addEventListener('change', (e) => {\n",
              "      resolve(e.target.files);\n",
              "    });\n",
              "  });\n",
              "\n",
              "  const cancel = document.createElement('button');\n",
              "  inputElement.parentElement.appendChild(cancel);\n",
              "  cancel.textContent = 'Cancel upload';\n",
              "  const cancelPromise = new Promise((resolve) => {\n",
              "    cancel.onclick = () => {\n",
              "      resolve(null);\n",
              "    };\n",
              "  });\n",
              "\n",
              "  // Wait for the user to pick the files.\n",
              "  const files = yield {\n",
              "    promise: Promise.race([pickedPromise, cancelPromise]),\n",
              "    response: {\n",
              "      action: 'starting',\n",
              "    }\n",
              "  };\n",
              "\n",
              "  cancel.remove();\n",
              "\n",
              "  // Disable the input element since further picks are not allowed.\n",
              "  inputElement.disabled = true;\n",
              "\n",
              "  if (!files) {\n",
              "    return {\n",
              "      response: {\n",
              "        action: 'complete',\n",
              "      }\n",
              "    };\n",
              "  }\n",
              "\n",
              "  for (const file of files) {\n",
              "    const li = document.createElement('li');\n",
              "    li.append(span(file.name, {fontWeight: 'bold'}));\n",
              "    li.append(span(\n",
              "        `(${file.type || 'n/a'}) - ${file.size} bytes, ` +\n",
              "        `last modified: ${\n",
              "            file.lastModifiedDate ? file.lastModifiedDate.toLocaleDateString() :\n",
              "                                    'n/a'} - `));\n",
              "    const percent = span('0% done');\n",
              "    li.appendChild(percent);\n",
              "\n",
              "    outputElement.appendChild(li);\n",
              "\n",
              "    const fileDataPromise = new Promise((resolve) => {\n",
              "      const reader = new FileReader();\n",
              "      reader.onload = (e) => {\n",
              "        resolve(e.target.result);\n",
              "      };\n",
              "      reader.readAsArrayBuffer(file);\n",
              "    });\n",
              "    // Wait for the data to be ready.\n",
              "    let fileData = yield {\n",
              "      promise: fileDataPromise,\n",
              "      response: {\n",
              "        action: 'continue',\n",
              "      }\n",
              "    };\n",
              "\n",
              "    // Use a chunked sending to avoid message size limits. See b/62115660.\n",
              "    let position = 0;\n",
              "    do {\n",
              "      const length = Math.min(fileData.byteLength - position, MAX_PAYLOAD_SIZE);\n",
              "      const chunk = new Uint8Array(fileData, position, length);\n",
              "      position += length;\n",
              "\n",
              "      const base64 = btoa(String.fromCharCode.apply(null, chunk));\n",
              "      yield {\n",
              "        response: {\n",
              "          action: 'append',\n",
              "          file: file.name,\n",
              "          data: base64,\n",
              "        },\n",
              "      };\n",
              "\n",
              "      let percentDone = fileData.byteLength === 0 ?\n",
              "          100 :\n",
              "          Math.round((position / fileData.byteLength) * 100);\n",
              "      percent.textContent = `${percentDone}% done`;\n",
              "\n",
              "    } while (position < fileData.byteLength);\n",
              "  }\n",
              "\n",
              "  // All done.\n",
              "  yield {\n",
              "    response: {\n",
              "      action: 'complete',\n",
              "    }\n",
              "  };\n",
              "}\n",
              "\n",
              "scope.google = scope.google || {};\n",
              "scope.google.colab = scope.google.colab || {};\n",
              "scope.google.colab._files = {\n",
              "  _uploadFiles,\n",
              "  _uploadFilesContinue,\n",
              "};\n",
              "})(self);\n",
              "</script> "
            ]
          },
          "metadata": {}
        },
        {
          "output_type": "stream",
          "name": "stdout",
          "text": [
            "Saving kaggle.json to kaggle.json\n",
            "Downloading yelp_academic_dataset_review.json.zip to /content\n",
            "100% 2.07G/2.07G [00:29<00:00, 79.2MB/s]\n",
            "100% 2.07G/2.07G [00:29<00:00, 74.3MB/s]\n"
          ]
        }
      ],
      "source": [
        "!pip install -q kaggle\n",
        "from google.colab import files\n",
        "files.upload()\n",
        "! mkdir ~/.kaggle\n",
        "! cp kaggle.json ~/.kaggle\n",
        "! chmod 600 ~/.kaggle/kaggle.json\n",
        "! kaggle datasets download -d yelp-dataset/yelp-dataset -f yelp_academic_dataset_review.json"
      ]
    },
    {
      "cell_type": "markdown",
      "metadata": {
        "id": "KOq-BlSq6C3r"
      },
      "source": [
        "The dataset is a .zip format, i need to uncompress it in order to make it usable. I remove the zipped file only to save space."
      ]
    },
    {
      "cell_type": "code",
      "execution_count": null,
      "metadata": {
        "id": "hM9nn6Ni6OS1",
        "colab": {
          "base_uri": "https://localhost:8080/"
        },
        "outputId": "dee0de57-1b7e-4804-cd3d-6e628e8d748f"
      },
      "outputs": [
        {
          "output_type": "stream",
          "name": "stdout",
          "text": [
            "Archive:  /content/yelp_academic_dataset_review.json.zip\n",
            "  inflating: yelp_academic_dataset_review.json  \n"
          ]
        }
      ],
      "source": [
        "!unzip \"/content/yelp_academic_dataset_review.json\" && rm *.zip"
      ]
    },
    {
      "cell_type": "markdown",
      "metadata": {
        "id": "lMNItky66xEv"
      },
      "source": [
        "# Data analysis"
      ]
    },
    {
      "cell_type": "markdown",
      "metadata": {
        "id": "XIxY236J63U0"
      },
      "source": [
        "I can now read the json file using the spark's apis. The loading is pretty slow; this is due to the size of the file. I print also the number of rows in the dataframe obtained after the loading phase. This numer is the **number of baskets** in the market basket analysis framework. The number of baskets is pretty high: almost 7 millions."
      ]
    },
    {
      "cell_type": "code",
      "execution_count": null,
      "metadata": {
        "id": "3yf3bmOO6vYe",
        "colab": {
          "base_uri": "https://localhost:8080/"
        },
        "outputId": "566c3110-af93-4f35-a09b-4c9552445f14"
      },
      "outputs": [
        {
          "output_type": "stream",
          "name": "stdout",
          "text": [
            "6990280\n"
          ]
        }
      ],
      "source": [
        "data_loader = spark.read.json(\"yelp_academic_dataset_review.json\")\n",
        "\n",
        "n_baskets = data_loader.count()\n",
        "\n",
        "print(n_baskets)"
      ]
    },
    {
      "cell_type": "markdown",
      "metadata": {
        "id": "J8zLh_ON82gD"
      },
      "source": [
        "The schema is the following, the field i need is the field \"text\" which is of type string. I can first of all try to have an idea of this field: the structure, the length and so on..."
      ]
    },
    {
      "cell_type": "code",
      "execution_count": null,
      "metadata": {
        "id": "RVPT4gQd7ky0",
        "colab": {
          "base_uri": "https://localhost:8080/"
        },
        "outputId": "86c5473b-73b4-4b5b-bfe0-f48182c50f24"
      },
      "outputs": [
        {
          "output_type": "stream",
          "name": "stdout",
          "text": [
            "root\n",
            " |-- business_id: string (nullable = true)\n",
            " |-- cool: long (nullable = true)\n",
            " |-- date: string (nullable = true)\n",
            " |-- funny: long (nullable = true)\n",
            " |-- review_id: string (nullable = true)\n",
            " |-- stars: double (nullable = true)\n",
            " |-- text: string (nullable = true)\n",
            " |-- useful: long (nullable = true)\n",
            " |-- user_id: string (nullable = true)\n",
            "\n"
          ]
        }
      ],
      "source": [
        "data_loader.printSchema()"
      ]
    },
    {
      "cell_type": "code",
      "execution_count": null,
      "metadata": {
        "id": "63MdbIsg9Wor",
        "colab": {
          "base_uri": "https://localhost:8080/",
          "height": 70
        },
        "outputId": "83724ba9-8d07-4f43-db2e-089b422f4aed"
      },
      "outputs": [
        {
          "output_type": "execute_result",
          "data": {
            "text/plain": [
              "\"If you decide to eat here, just be aware it is going to take about 2 hours from beginning to end. We have tried it multiple times, because I want to like it! I have been to it's other locations in NJ and never had a bad experience. \\n\\nThe food is good, but it takes a very long time to come out. The waitstaff is very young, but usually pleasant. We have just had too many experiences where we spent way too long waiting. We usually opt for another diner or restaurant on the weekends, in order to be done quicker.\""
            ],
            "application/vnd.google.colaboratory.intrinsic+json": {
              "type": "string"
            }
          },
          "metadata": {},
          "execution_count": 6
        }
      ],
      "source": [
        "data_loader.select(\"text\").first()[\"text\"]"
      ]
    },
    {
      "cell_type": "markdown",
      "metadata": {
        "id": "mp0PODYD_s4k"
      },
      "source": [
        "To check if there are some rows which are null on value \"text\" i performed a count on that field; the COUNT() documentation specifies that only non null entries will be counted."
      ]
    },
    {
      "cell_type": "code",
      "execution_count": null,
      "metadata": {
        "id": "AJJb1vQ59l9C",
        "colab": {
          "base_uri": "https://localhost:8080/"
        },
        "outputId": "d4e7c826-99d7-4bae-a702-4ed563aa1768"
      },
      "outputs": [
        {
          "output_type": "stream",
          "name": "stdout",
          "text": [
            "+-----------+\n",
            "|count(text)|\n",
            "+-----------+\n",
            "|    6990280|\n",
            "+-----------+\n",
            "\n"
          ]
        }
      ],
      "source": [
        "data_loader.createOrReplaceTempView(\"table_text\")\n",
        "not_null_text = spark.sql(\"SELECT COUNT(`table_text`.`text`) FROM `table_text`\")\n",
        "not_null_text.show()"
      ]
    },
    {
      "cell_type": "markdown",
      "metadata": {
        "id": "mI7Qy-AUBo_V"
      },
      "source": [
        "From the snippet above it's clear that the number of non-null entries is the same of the total number of rows; each row is non-null. I then computed the average length of the field, which is more or less 568 characters (not a big number but not so small on average, a tweet for example was 144 characters long)."
      ]
    },
    {
      "cell_type": "code",
      "execution_count": null,
      "metadata": {
        "id": "5a3EPc46AIPy",
        "colab": {
          "base_uri": "https://localhost:8080/"
        },
        "outputId": "8afff714-5e93-4681-fd91-e38b242fc517"
      },
      "outputs": [
        {
          "output_type": "stream",
          "name": "stdout",
          "text": [
            "+-----------------+\n",
            "|          avg_len|\n",
            "+-----------------+\n",
            "|567.7644364746477|\n",
            "+-----------------+\n",
            "\n"
          ]
        }
      ],
      "source": [
        "data_loader.createOrReplaceTempView(\"table_text\")\n",
        "avg_text_len = spark.sql(\"SELECT AVG(CHAR_LENGTH(`table_text`.`text`)) AS avg_len FROM `table_text`\")\n",
        "avg_text_len.show()"
      ]
    },
    {
      "cell_type": "markdown",
      "metadata": {
        "id": "dSr9gRJ5CkhP"
      },
      "source": [
        "Now that i have an idea of the size of the problem i want to do a more appropriate analysis on the number of items in the basket. In my case i will consider \"item\" a single word, in order to split the text field in words i could have used a regular expression, the split() method... all this methods are not so precise in the splitting operation. For this reason i decided to use a tokenizer from the library NTLK (i get this idea from the Information retrieval class), i also downloaded the punktuation set (used in the tokenization phase) and the stopword set for the language i'm considering which is english"
      ]
    },
    {
      "cell_type": "code",
      "execution_count": null,
      "metadata": {
        "id": "u1Gawg4eakH1",
        "colab": {
          "base_uri": "https://localhost:8080/"
        },
        "outputId": "104495e4-9bf8-437c-cb5f-8958c607dfb5"
      },
      "outputs": [
        {
          "output_type": "stream",
          "name": "stderr",
          "text": [
            "[nltk_data] Downloading package punkt to /root/nltk_data...\n",
            "[nltk_data]   Unzipping tokenizers/punkt.zip.\n",
            "[nltk_data] Downloading package stopwords to /root/nltk_data...\n",
            "[nltk_data]   Unzipping corpora/stopwords.zip.\n"
          ]
        }
      ],
      "source": [
        "import nltk\n",
        "from nltk.corpus import stopwords\n",
        "from nltk.tokenize import word_tokenize\n",
        "nltk.download('punkt')\n",
        "nltk.download('stopwords')\n",
        "stop_words = set(stopwords.words(\"english\"))"
      ]
    },
    {
      "cell_type": "markdown",
      "metadata": {
        "id": "IhhkaIUzEJGa"
      },
      "source": [
        "I decided to create a function to tokenize a given text. In this case i return each token which is alphabetic and not in the stop words set. This decision is driven by the fact that including stop words in the basket items could lead to the definition of rules which have no relevance: stop words are words which are very frequent in the language, i expect those word to be in almost all the baskets. I return list(set(...)) because i just need to know if two words are in the same basket, i dont care about the number of times which this happen in a single basket."
      ]
    },
    {
      "cell_type": "code",
      "execution_count": null,
      "metadata": {
        "id": "c-8MeH_mgcp3"
      },
      "outputs": [],
      "source": [
        "def tokenize(text):\n",
        "  return list(set([x.strip().lower() for x in word_tokenize(text) if (x.strip().lower().isalpha()) and (x.strip().lower() not in stop_words)]))"
      ]
    },
    {
      "cell_type": "code",
      "execution_count": null,
      "metadata": {
        "id": "j04kk1vuFKUl",
        "colab": {
          "base_uri": "https://localhost:8080/"
        },
        "outputId": "164fc246-28f7-412e-c1eb-434800db1d95"
      },
      "outputs": [
        {
          "output_type": "stream",
          "name": "stdout",
          "text": [
            "['decide', 'locations', 'bad', 'nj', 'takes', 'going', 'way', 'eat', 'experience', 'aware', 'beginning', 'long', 'experiences', 'take', 'spent', 'end', 'another', 'diner', 'pleasant', 'order', 'quicker', 'food', 'time', 'young', 'multiple', 'waitstaff', 'hours', 'come', 'tried', 'restaurant', 'want', 'weekends', 'opt', 'done', 'never', 'usually', 'good', 'many', 'waiting', 'like', 'times']\n"
          ]
        }
      ],
      "source": [
        "print(tokenize(data_loader.select(\"text\").first()[\"text\"]))"
      ]
    },
    {
      "cell_type": "markdown",
      "metadata": {
        "id": "qQ2GYECJFwE8"
      },
      "source": [
        "For a first try i decided to get $5 \\cdot 10^5$ baskets. I decided to do this without \"cheating\" using the sample method. This method return a sample of the full dataframe with a given including-rate. I have to transform the dataframe in a RDD to start working in a (simulated) distributed fashion. For each of the sampled rows in the resulting dataframe i apply the tokenization function and keep only the rows with at least 2 words; i have considered \"degenerate\" reviews reviews like \"good\".\n",
        "\n"
      ]
    },
    {
      "cell_type": "code",
      "execution_count": null,
      "metadata": {
        "id": "WZ8-q6I0aZEW"
      },
      "outputs": [],
      "source": [
        "num_rows = 500000\n",
        "seed = 15101999\n",
        "data_trial = data_loader.\\\n",
        "       select(\"text\").\\\n",
        "       rdd.\\\n",
        "       sample(withReplacement=False,fraction=num_rows/n_baskets,seed=seed).\\\n",
        "       map(lambda row: tokenize(row[\"text\"])).\\\n",
        "       filter(lambda tokenized_row: len(tokenized_row)>1).\\\n",
        "       cache()"
      ]
    },
    {
      "cell_type": "markdown",
      "metadata": {
        "id": "g2ufAAB9H8sq"
      },
      "source": [
        "I obtain an RDD in which each row is defined as a list of words. I can consider each row a basket and each element an item of the basket"
      ]
    },
    {
      "cell_type": "code",
      "execution_count": null,
      "metadata": {
        "id": "W3BXuIKCHcF6",
        "colab": {
          "base_uri": "https://localhost:8080/"
        },
        "outputId": "4db3f9b3-7dcb-41c7-b8fb-e5d013d74d0e"
      },
      "outputs": [
        {
          "output_type": "stream",
          "name": "stdout",
          "text": [
            "[['something', 'new', 'delicious', 'try', 'changed', 'naan', 'yummy', 'favorite', 'glad', 'minds', 'korma', 'go', 'curry', 'let', 'almost', 'wow', 'lamb', 'kinds', 'outside', 'deter', 'different'], ['milktooth', 'indianapolis', 'glade', 'recommended', 'experience', 'jewel', 'locals', 'chance', 'amazing']]\n"
          ]
        }
      ],
      "source": [
        "print(data_trial.take(2))"
      ]
    },
    {
      "cell_type": "markdown",
      "metadata": {
        "id": "LNMWeO9SIUpt"
      },
      "source": [
        "Now i can define the minimum support (in relative term) i want to consider a singleton/k-tuple frequent. To use the apriori algorithm i have designed i have also to rescale this relative term with respect to the number of rows i have decided to sample, this operation leads me to the definition of the support threshold."
      ]
    },
    {
      "cell_type": "code",
      "execution_count": null,
      "metadata": {
        "id": "0ufUmvtnd5AP",
        "colab": {
          "base_uri": "https://localhost:8080/"
        },
        "outputId": "c2525471-176b-40ba-8aaa-189a42394138"
      },
      "outputs": [
        {
          "output_type": "stream",
          "name": "stdout",
          "text": [
            "25000.0\n"
          ]
        }
      ],
      "source": [
        "relative_thresh = 0.05\n",
        "support = relative_thresh*num_rows\n",
        "print(support)"
      ]
    },
    {
      "cell_type": "markdown",
      "source": [
        "In this section i describe each support function i will use in the final A-priori implementation. The first one is **token_to_index** function, the name is self explanatory: for each token in a review i assign to it an integer number, this is useful in order to save main memory; indeed Python uses 4 bytes both for single characters and integers, using this method we can avoid to use a lot of RAM. The idea is pretty straight-forward: i define a dictionary in which i will keep the relations \"token -> index\", then for each token i just check if the token is in the dictionary, if not so i add it and assign as value the number of keys currently in the dictionary itself. For example i will have index 0 associated to the first value, then 1 and so on."
      ],
      "metadata": {
        "id": "n002-SuBlLsB"
      }
    },
    {
      "cell_type": "code",
      "source": [
        "word_to_index = {}\n",
        "\n",
        "def token_to_index(item):\n",
        "  if item not in word_to_index:\n",
        "    word_to_index[item] = len(word_to_index.keys())\n",
        "  return word_to_index[item]"
      ],
      "metadata": {
        "id": "D6joc15FlEeN"
      },
      "execution_count": null,
      "outputs": []
    },
    {
      "cell_type": "markdown",
      "source": [
        "The function index_to_token is the opposite of token_to_index. This function take a single index or a set of index and return the corresponding token."
      ],
      "metadata": {
        "id": "QWTcGP6n-bZU"
      }
    },
    {
      "cell_type": "code",
      "source": [
        "def index_to_token(val):\n",
        "  res = []\n",
        "  if type(val) == int:\n",
        "    for key, value in word_to_index.items():\n",
        "      if val == value:\n",
        "        return key\n",
        "  for sub_el in val:\n",
        "    for key, value in word_to_index.items():\n",
        "      if sub_el == value:\n",
        "        res.append(key)\n",
        "  return tuple(res)"
      ],
      "metadata": {
        "id": "alLBJAq6-XIc"
      },
      "execution_count": null,
      "outputs": []
    },
    {
      "cell_type": "markdown",
      "source": [
        "The next function is generate_candidate_k_set_join; the idea for this function was taken by this [report](https://github.com/z9y1t9/SparkApriori/blob/master/5003.pdf) i found. Initially this function was more brute-forced based: i used itertools to generate the combinations of length k and then i used those combinations in order to create the next frequent subset, the problem with this approach is the number of combinations that is going to be created. In the report i linked above they have a good intuition: if we have created the following frequent singletons [1,2,3,4] we can create all the frequent couples with different elements and maintain the order: (1,2),(1,3),(1,4),(2,3),(2,4),(3,4) by doing so when we will have to create the triples we consider the first element as the key and then join if the second element of the first couple is smaller then the second element of the second couple. Let's suppose that only (1,2),(1,3),(2,3),(2,4) are frequent, then (1,2,3) (using (1,2) and (1,3)) and (2,3,4) will be the only frequent triples. This is due to the fact that for example (1,2,4) cannot be frequent because (1,4) is not in the frequent pairs. In the original implementation this function is made using \"plain python\", here i decided to re-write it using map reduce framework and pyspark to move the collect() command after the filtering phase."
      ],
      "metadata": {
        "id": "vQwsebC2nkbL"
      }
    },
    {
      "cell_type": "code",
      "source": [
        "def generate_candidate_k_set_join(previous_set, k):\n",
        "  if k == 2:\n",
        "    mapped_prev_set = previous_set.map(lambda x : ('common_key', x))\n",
        "    res_set = mapped_prev_set.join(mapped_prev_set).map(lambda x : x[1]).filter(lambda x: x == tuple(sorted(x)) and len(set(x)) > k-1)\n",
        "    return res_set\n",
        "  if k == 3:\n",
        "    mapped_prev_set = previous_set.map(lambda x : (*x[:k-2], *x[k-2:]))\n",
        "    res_set = mapped_prev_set.join(mapped_prev_set)\n",
        "    return res_set\n",
        "  mapped_prev_set = previous_set.map(lambda x : ((x[:k-2]), *x[k-2:]))\n",
        "  res_set = mapped_prev_set.join(mapped_prev_set).map(lambda x: (*x[0], *x[1])).filter(lambda x: x == tuple(sorted(x)) and len(set(x)) > k-1)\n",
        "  return res_set"
      ],
      "metadata": {
        "id": "CqvR7-Y7qj4A"
      },
      "execution_count": null,
      "outputs": []
    },
    {
      "cell_type": "markdown",
      "source": [
        "The last support function for the apriori algorithm is the filter_function. This filter function is needed because using the generate_candidate_k_set_join i get a list of possible k-tuples, this k-tuples need to filtered: i have to compute the support for each tuple and filter using the support. The function takes a list of k-tuples and a review and checks if each k-tuple is in the review, if so it adds the k-tuple to a list which will be returned and flatted-out, then i will do the usual frequency-count -> filter process."
      ],
      "metadata": {
        "id": "dkKmmiVGqrwk"
      }
    },
    {
      "cell_type": "code",
      "source": [
        "def filter_function(k_tuples, indexed_element):\n",
        "    indexed_set = set(indexed_element)\n",
        "    res = []\n",
        "    for k_tuple in k_tuples:\n",
        "        if set(k_tuple).issubset(indexed_set):\n",
        "            res.append(k_tuple)\n",
        "    return res"
      ],
      "metadata": {
        "id": "4g54o5MPri36"
      },
      "execution_count": null,
      "outputs": []
    },
    {
      "cell_type": "code",
      "execution_count": null,
      "metadata": {
        "id": "1iVz6Ku0E29y"
      },
      "outputs": [],
      "source": [
        "def apriori(data, support):\n",
        "\n",
        "  frequent_tuples =     data \\\n",
        "                        .flatMap(lambda token: token) \\\n",
        "                        .map(lambda token : (token, 1)) \\\n",
        "                        .reduceByKey(lambda token_a, token_b : token_a + token_b) \\\n",
        "                        .filter(lambda token : token[1] > support) \n",
        "  k = 2\n",
        "  frequent_elems = frequent_tuples.map(lambda token: token[0])\n",
        "\n",
        "  while not frequent_elems.isEmpty():\n",
        "    k_tuples = generate_candidate_k_set_join(frequent_elems, k).collect()\n",
        "    frequent_k_tuples = data \\\n",
        "              .flatMap(lambda indexed_element: filter_function(k_tuples, indexed_element)) \\\n",
        "              .map(lambda token : (token, 1)) \\\n",
        "              .reduceByKey(lambda token_a, token_b : token_a + token_b) \\\n",
        "              .filter(lambda token : token[1] > support)\n",
        "    frequent_tuples = frequent_tuples.union(frequent_k_tuples)\n",
        "    frequent_elems = frequent_k_tuples.map(lambda token: token[0])\n",
        "    k = k+1\n",
        "  \n",
        "  return frequent_tuples"
      ]
    },
    {
      "cell_type": "markdown",
      "source": [
        "I then collect all the data using spark primitives and map all the tokens to their corresponding index, i parallelize data to re-obtain an rdd. I had to do this additional steps because using directly .map(lambda x : token_to_index(x)) does not create the dictionary of associations between tokens and indexes and because i had to sample the data with the number of points i have decided above."
      ],
      "metadata": {
        "id": "yzc7FzLGiCwz"
      }
    },
    {
      "cell_type": "code",
      "execution_count": null,
      "metadata": {
        "id": "xJiQD5vJCi1G"
      },
      "outputs": [],
      "source": [
        "collected_data = data_trial.collect()"
      ]
    },
    {
      "cell_type": "code",
      "source": [
        "collected_data = [[token_to_index(token) for token in review] for review in collected_data]"
      ],
      "metadata": {
        "id": "JWzpFzgRy29y"
      },
      "execution_count": null,
      "outputs": []
    },
    {
      "cell_type": "code",
      "execution_count": null,
      "metadata": {
        "id": "UXTSoM21CaEz"
      },
      "outputs": [],
      "source": [
        "parallelized_data = spark.sparkContext.parallelize(collected_data)"
      ]
    },
    {
      "cell_type": "markdown",
      "source": [
        "# Execution of apriori algorithm with different thresholdes"
      ],
      "metadata": {
        "id": "Mlah_Dqo0X6U"
      }
    },
    {
      "cell_type": "markdown",
      "source": [
        "Let's consider for example the execution of the algorithm using the parameters we had setted up until this point:\n",
        "1.   Number of rows (baskets) = $5 \\cdot 10^5$\n",
        "2.   Relative threshold $0.05$\n",
        "in this case i will consider frequent elements all the elements appearing in at least $25.000$ baskets.\n",
        "\n",
        "\n"
      ],
      "metadata": {
        "id": "FcEvQK-MjN5q"
      }
    },
    {
      "cell_type": "code",
      "source": [
        "plot_pts = []"
      ],
      "metadata": {
        "id": "-pYQ6wYf0iUx"
      },
      "execution_count": null,
      "outputs": []
    },
    {
      "cell_type": "markdown",
      "source": [
        "I take trace of the time the algorithm requires in order to be executed. I will also save the time, the threshold and the number of elements found to make a comparison at the end of the process."
      ],
      "metadata": {
        "id": "24YlsxvCmW77"
      }
    },
    {
      "cell_type": "code",
      "execution_count": null,
      "metadata": {
        "id": "DX11Gpl--Wa7"
      },
      "outputs": [],
      "source": [
        "import time\n",
        "\n",
        "before = time.time()\n",
        "\n",
        "freq_set_min_thresh = apriori(parallelized_data, support) \\\n",
        "              .map(lambda x: (index_to_token(x[0]),x[1])) \\\n",
        "              .collect()\n",
        "\n",
        "end = time.time() - before"
      ]
    },
    {
      "cell_type": "markdown",
      "source": [
        "The algorithm is able to find sensible elements. For example (the result may change one execution to the other if the seed changes) the algorithm found:\n",
        "\n",
        "\n",
        "1.   food, good\n",
        "2.   time, service\n",
        "3.   ...\n",
        "\n",
        "those results are pretty good, they are related to the topic of the dataset and are consistent: in a review i expect to find sentences like \"the food was good\" or \"the food was not good\" moreover i expect to find some comments about the time related to the service in a specific resturant \n",
        "\n",
        "\n"
      ],
      "metadata": {
        "id": "47TXttbAm8Wt"
      }
    },
    {
      "cell_type": "code",
      "source": [
        "print(sorted(freq_set_min_thresh, key = lambda x: len(x[0]) if type(x[0]) == tuple else 1, reverse=True))"
      ],
      "metadata": {
        "colab": {
          "base_uri": "https://localhost:8080/"
        },
        "id": "eJ5WUKJXREsZ",
        "outputId": "b860c043-5fd6-4f48-9f42-88f73413d2fe"
      },
      "execution_count": null,
      "outputs": [
        {
          "output_type": "stream",
          "name": "stdout",
          "text": [
            "[(('food', 'good'), 75107), (('also', 'time'), 27416), (('service', 'time'), 36176), (('go', 'food'), 39430), (('go', 'great'), 32593), (('food', 'order'), 28804), (('food', 'great'), 66563), (('try', 'good'), 25267), (('like', 'good'), 46714), (('like', 'great'), 35335), (('like', 'one'), 37548), (('like', 'would'), 37364), (('good', 'great'), 54120), (('good', 'one'), 42113), (('good', 'would'), 42822), (('great', 'one'), 34409), (('great', 'would'), 34750), (('one', 'would'), 36973), (('friendly', 'place'), 25427), (('best', 'food'), 28085), (('food', 'one'), 41624), (('time', 'first'), 33924), (('time', 'get'), 38461), (('good', 'could'), 26634), (('good', 'got'), 30471), (('like', 'food'), 44696), (('go', 'good'), 38392), (('also', 'get'), 27337), (('service', 'get'), 32247), (('go', 'one'), 31561), (('go', 'would'), 33216), (('go', 'back'), 38838), (('good', 'back'), 42538), (('great', 'back'), 38014), (('one', 'back'), 34384), (('would', 'back'), 38454), (('back', 'come'), 25569), (('would', 'got'), 25596), (('friendly', 'staff'), 28365), (('service', 'place'), 44269), (('time', 'place'), 42965), (('place', 'staff'), 25531), (('also', 'place'), 34357), (('place', 'well'), 26622), (('like', 'back'), 33759), (('got', 'back'), 27438), (('would', 'could'), 29755), (('time', 'really'), 27234), (('place', 'get'), 44029), (('place', 'really'), 36560), (('get', 'really'), 26872), (('one', 'could'), 26051), (('food', 'back'), 44899), (('food', 'would'), 41707), (('go', 'like'), 31917), (('food', 'got'), 28301), (('even', 'time'), 25383), (('best', 'great'), 25248), (('place', 'nice'), 29440), (('food', 'could'), 26249), (('definitely', 'back'), 25318), (('even', 'place'), 27930), (('love', 'place'), 27250), (('even', 'get'), 25215), (('food', 'also'), 33238), (('food', 'even'), 27103), (('good', 'also'), 36623), (('good', 'even'), 25680), (('also', 'great'), 32292), (('friendly', 'great'), 27748), (('service', 'great'), 54033), (('go', 'service'), 28890), (('go', 'time'), 33264), (('food', 'friendly'), 26025), (('food', 'service'), 66252), (('food', 'time'), 44107), (('food', 'restaurant'), 34021), (('great', 'time'), 39744), (('place', 'would'), 42089), (('try', 'place'), 25695), (('like', 'place'), 47840), (('good', 'ordered'), 28002), (('good', 'place'), 63181), (('great', 'place'), 59971), (('one', 'place'), 42248), (('best', 'place'), 27258), (('food', 'place'), 68159), (('food', 'us'), 28151), (('time', 'could'), 25201), (('time', 'got'), 25844), (('like', 'time'), 35936), (('like', 'get'), 37397), (('good', 'time'), 43475), (('good', 'nice'), 30955), (('good', 'get'), 42173), (('good', 'well'), 27967), (('great', 'nice'), 26762), (('great', 'get'), 35067), (('great', 'well'), 25514), (('could', 'get'), 26206), (('got', 'get'), 25087), (('food', 'came'), 26427), (('go', 'get'), 33706), (('food', 'nice'), 28320), (('food', 'get'), 40598), (('food', 'staff'), 26936), (('also', 'one'), 27742), (('also', 'would'), 27015), (('also', 'back'), 25606), (('service', 'one'), 32903), (('service', 'would'), 35015), (('service', 'back'), 36533), (('get', 'back'), 34500), (('good', 'service'), 51357), (('good', 'little'), 25304), (('one', 'get'), 37653), (('would', 'get'), 36382), (('great', 'staff'), 27087), (('delicious', 'food'), 31249), (('go', 'place'), 42309), (('time', 'back'), 39029), (('place', 'got'), 28422), (('place', 'back'), 41993), (('like', 'also'), 29365), (('like', 'service'), 31182), (('time', 'would'), 37319), (('time', 'one'), 37848), (('place', 'could'), 26656), (('one', 'really'), 26604), (('food', 'ordered'), 31259), (('food', 'well'), 27159), (('food', 'really'), 35583), (('good', 'really'), 42092), (('would', 'really'), 26682), (('back', 'really'), 25883), (('like', 'really'), 31475), (('food', 'menu'), 26435), (('great', 'really'), 32240), (('even', 'would'), 25224), (('even', 'one'), 25416), ('something', 32745), ('delicious', 62779), ('different', 27243), ('bad', 32075), ('ever', 44665), ('times', 36998), ('also', 86142), ('even', 71645), ('friendly', 69081), ('love', 60023), ('service', 135792), ('time', 119267), ('think', 36220), ('restaurant', 55272), ('awesome', 30116), ('know', 44623), ('side', 28246), ('wait', 44964), ('prices', 27151), ('small', 33117), ('ordered', 61365), ('went', 58857), ('visit', 27501), ('see', 37029), ('going', 46799), ('place', 163358), ('meal', 31672), ('lot', 32327), ('hot', 26956), ('table', 31510), ('us', 61986), ('first', 60843), ('nice', 71616), ('get', 111367), ('well', 68508), ('around', 39715), ('people', 52129), ('came', 58578), ('since', 34620), ('staff', 70827), ('little', 55510), ('things', 26212), ('give', 37583), ('asked', 31770), ('night', 37564), ('say', 40039), ('always', 58070), ('still', 39582), ('need', 28152), ('everything', 44301), ('eat', 36532), ('make', 50903), ('home', 30426), ('next', 37106), ('told', 32364), ('menu', 48794), ('really', 86101), ('lunch', 29869), ('highly', 26241), ('wanted', 28272), ('thing', 27411), ('happy', 28439), ('take', 41243), ('looking', 29591), ('perfect', 26125), ('found', 25688), ('clean', 29649), ('feel', 27684), ('new', 51154), ('try', 57737), ('favorite', 30744), ('go', 101326), ('experience', 54214), ('amazing', 54333), ('another', 35180), ('super', 30574), ('like', 111764), ('best', 74516), ('cheese', 34051), ('food', 174974), ('location', 31035), ('salad', 27430), ('ca', 36414), ('tried', 31546), ('good', 161160), ('price', 31308), ('chicken', 44773), ('bar', 37709), ('every', 37098), ('right', 43077), ('order', 57129), ('great', 160123), ('never', 58947), ('work', 32932), ('pretty', 41118), ('one', 110904), ('definitely', 60814), ('bit', 30547), ('away', 25937), ('minutes', 33571), ('recommend', 52651), ('much', 52768), ('enough', 27292), ('would', 112038), ('dinner', 30452), ('many', 35153), ('sure', 40580), ('could', 70905), ('got', 74411), ('worth', 30779), ('years', 26660), ('two', 44481), ('way', 45640), ('want', 40197), ('back', 116156), ('made', 52056), ('last', 32279), ('left', 25540), ('come', 53702), ('better', 45187), ('area', 39469), ('fresh', 39688), ('said', 39929), ('find', 33071), ('big', 25125), ('excellent', 31408), ('though', 30157), ('day', 44268), ('long', 31648), ('nothing', 25439), ('sauce', 30912), ('took', 37503), ('atmosphere', 29120), ('customer', 28816), ('drinks', 30143)]\n"
          ]
        }
      ]
    },
    {
      "cell_type": "code",
      "source": [
        "print(len(freq_set_min_thresh))"
      ],
      "metadata": {
        "colab": {
          "base_uri": "https://localhost:8080/"
        },
        "id": "ONyctCUw1IUp",
        "outputId": "294d365a-a3d2-4338-8387-524b6c2eeffa"
      },
      "execution_count": null,
      "outputs": [
        {
          "output_type": "stream",
          "name": "stdout",
          "text": [
            "275\n"
          ]
        }
      ]
    },
    {
      "cell_type": "markdown",
      "source": [
        "I wanted also to check the results of the algorithm with respect to the threshold changes: i expect that when the threshold increases the number of results decreases as the execution time. This is due to the fact that the initial elements we retain will lead to a smaller number of couples, so the overall computation will be faster."
      ],
      "metadata": {
        "id": "Zzlm4mv7zusQ"
      }
    },
    {
      "cell_type": "code",
      "source": [
        "plot_pts.append((relative_thresh, end, len(freq_set_min_thresh)))"
      ],
      "metadata": {
        "id": "8V1cUDhm0vGm"
      },
      "execution_count": null,
      "outputs": []
    },
    {
      "cell_type": "code",
      "source": [
        "relative_thresh = 0.10\n",
        "support = relative_thresh*num_rows\n",
        "\n",
        "before = time.time()\n",
        "\n",
        "second_freq_set = apriori(parallelized_data, support) \\\n",
        "              .map(lambda x: (index_to_token(x[0]),x[1])) \\\n",
        "              .collect()\n",
        "\n",
        "end = time.time() - before"
      ],
      "metadata": {
        "id": "XtDOQ_ArswdF"
      },
      "execution_count": null,
      "outputs": []
    },
    {
      "cell_type": "markdown",
      "source": [
        "Increasing the threshold by just a 5% we get a reduction in the number of results of the 80%. This confirms what i supposed. The results are still good (they are a subset of the previous results) and they are realted to couples of items which are more frequently taken together; for example, with the threshold equal to 0.05 i found the couple ('great','back') (for example this association can appear in a review like \"the place is great, i will come back\"), with this new threshold this couple is not present. I can then suppose that (based on this dataset) in a number of time that is bewteen $5\\% \\leq x < 10\\%$  of the time if a restaurant is great the costumer will come back. "
      ],
      "metadata": {
        "id": "SCSVgNRO3UpI"
      }
    },
    {
      "cell_type": "code",
      "source": [
        "print(sorted(second_freq_set, key = lambda x: len(x[0]) if type(x[0]) == tuple else 1, reverse=True))"
      ],
      "metadata": {
        "colab": {
          "base_uri": "https://localhost:8080/"
        },
        "id": "_AP6SZVY1EaJ",
        "outputId": "433b3e06-cfbb-4f58-d8be-0fc70d0a1be2"
      },
      "execution_count": null,
      "outputs": [
        {
          "output_type": "stream",
          "name": "stdout",
          "text": [
            "[(('food', 'good'), 75107), (('food', 'great'), 66563), (('good', 'great'), 54120), (('service', 'great'), 54033), (('food', 'service'), 66252), (('good', 'place'), 63181), (('great', 'place'), 59971), (('food', 'place'), 68159), (('good', 'service'), 51357), ('delicious', 62779), ('also', 86142), ('even', 71645), ('friendly', 69081), ('love', 60023), ('service', 135792), ('time', 119267), ('restaurant', 55272), ('ordered', 61365), ('went', 58857), ('place', 163358), ('us', 61986), ('first', 60843), ('nice', 71616), ('get', 111367), ('well', 68508), ('people', 52129), ('came', 58578), ('staff', 70827), ('little', 55510), ('always', 58070), ('make', 50903), ('really', 86101), ('new', 51154), ('try', 57737), ('go', 101326), ('experience', 54214), ('amazing', 54333), ('like', 111764), ('best', 74516), ('food', 174974), ('good', 161160), ('order', 57129), ('great', 160123), ('never', 58947), ('one', 110904), ('definitely', 60814), ('recommend', 52651), ('much', 52768), ('would', 112038), ('could', 70905), ('got', 74411), ('back', 116156), ('made', 52056), ('come', 53702)]\n"
          ]
        }
      ]
    },
    {
      "cell_type": "code",
      "source": [
        "print(len(second_freq_set))"
      ],
      "metadata": {
        "colab": {
          "base_uri": "https://localhost:8080/"
        },
        "id": "SCLTTfyH1MIn",
        "outputId": "1a4c04f6-dcd8-45f5-da5f-667f1230f147"
      },
      "execution_count": null,
      "outputs": [
        {
          "output_type": "stream",
          "name": "stdout",
          "text": [
            "54\n"
          ]
        }
      ]
    },
    {
      "cell_type": "code",
      "source": [
        "plot_pts.append((relative_thresh, end, len(second_freq_set)))"
      ],
      "metadata": {
        "id": "D7v6xKAg03rA"
      },
      "execution_count": null,
      "outputs": []
    },
    {
      "cell_type": "code",
      "source": [
        "relative_thresh = 0.15\n",
        "support = relative_thresh*num_rows\n",
        "\n",
        "before = time.time()\n",
        "\n",
        "freq_set = apriori(parallelized_data, support) \\\n",
        "              .map(lambda x: (index_to_token(x[0]),x[1])) \\\n",
        "              .collect()\n",
        "\n",
        "end = time.time() - before"
      ],
      "metadata": {
        "id": "H2qPGYgvAPS0"
      },
      "execution_count": null,
      "outputs": []
    },
    {
      "cell_type": "code",
      "source": [
        "plot_pts.append((relative_thresh, end, len(freq_set)))"
      ],
      "metadata": {
        "id": "EUwByRAP04af"
      },
      "execution_count": null,
      "outputs": []
    },
    {
      "cell_type": "code",
      "source": [
        "relative_thresh = 0.20\n",
        "support = relative_thresh*num_rows\n",
        "\n",
        "before = time.time()\n",
        "\n",
        "freq_set = apriori(parallelized_data, support) \\\n",
        "              .map(lambda x: (index_to_token(x[0]),x[1])) \\\n",
        "              .collect()\n",
        "\n",
        "end = time.time() - before"
      ],
      "metadata": {
        "id": "X0qYdLuI0MEZ"
      },
      "execution_count": null,
      "outputs": []
    },
    {
      "cell_type": "code",
      "source": [
        "plot_pts.append((relative_thresh, end, len(freq_set)))"
      ],
      "metadata": {
        "id": "IfB_wtP905G-"
      },
      "execution_count": null,
      "outputs": []
    },
    {
      "cell_type": "code",
      "source": [
        "relative_thresh = 0.25\n",
        "support = relative_thresh*num_rows\n",
        "\n",
        "before = time.time()\n",
        "\n",
        "freq_set = apriori(parallelized_data, support) \\\n",
        "              .map(lambda x: (index_to_token(x[0]),x[1])) \\\n",
        "              .collect()\n",
        "\n",
        "end = time.time() - before"
      ],
      "metadata": {
        "id": "b2KoNRoo0Not"
      },
      "execution_count": null,
      "outputs": []
    },
    {
      "cell_type": "code",
      "source": [
        "plot_pts.append((relative_thresh, end, len(freq_set)))"
      ],
      "metadata": {
        "id": "no8DAT4D051w"
      },
      "execution_count": null,
      "outputs": []
    },
    {
      "cell_type": "code",
      "source": [
        "relative_thresh = 0.30\n",
        "support = relative_thresh*num_rows\n",
        "\n",
        "before = time.time()\n",
        "\n",
        "freq_set = apriori(parallelized_data, support) \\\n",
        "              .map(lambda x: (index_to_token(x[0]),x[1])) \\\n",
        "              .collect()\n",
        "\n",
        "end = time.time() - before"
      ],
      "metadata": {
        "id": "-AF1k4OV0OpZ"
      },
      "execution_count": null,
      "outputs": []
    },
    {
      "cell_type": "code",
      "source": [
        "plot_pts.append((relative_thresh, end, len(freq_set)))"
      ],
      "metadata": {
        "id": "xSIyMyMQ06tW"
      },
      "execution_count": null,
      "outputs": []
    },
    {
      "cell_type": "code",
      "source": [
        "relative_thresh = 0.35\n",
        "support = relative_thresh*num_rows\n",
        "\n",
        "before = time.time()\n",
        "\n",
        "freq_set = apriori(parallelized_data, support) \\\n",
        "              .map(lambda x: (index_to_token(x[0]),x[1])) \\\n",
        "              .collect()\n",
        "\n",
        "end = time.time() - before"
      ],
      "metadata": {
        "id": "YWmLcJ7u0PvM"
      },
      "execution_count": null,
      "outputs": []
    },
    {
      "cell_type": "code",
      "source": [
        "plot_pts.append((relative_thresh, end, len(freq_set)))"
      ],
      "metadata": {
        "id": "EZh24OM207ZN"
      },
      "execution_count": null,
      "outputs": []
    },
    {
      "cell_type": "code",
      "source": [
        "relative_thresh = 0.40\n",
        "support = relative_thresh*num_rows\n",
        "\n",
        "before = time.time()\n",
        "\n",
        "freq_set = apriori(parallelized_data, support) \\\n",
        "              .map(lambda x: (index_to_token(x[0]),x[1])) \\\n",
        "              .collect()\n",
        "\n",
        "end = time.time() - before"
      ],
      "metadata": {
        "id": "0g8goz-r0RKq"
      },
      "execution_count": null,
      "outputs": []
    },
    {
      "cell_type": "code",
      "source": [
        "plot_pts.append((relative_thresh, end, len(freq_set)))"
      ],
      "metadata": {
        "id": "T8A6KdhA08BM"
      },
      "execution_count": null,
      "outputs": []
    },
    {
      "cell_type": "code",
      "source": [
        "relative_thresh = 0.45\n",
        "support = relative_thresh*num_rows\n",
        "\n",
        "before = time.time()\n",
        "\n",
        "freq_set = apriori(parallelized_data, support) \\\n",
        "              .map(lambda x: (index_to_token(x[0]),x[1])) \\\n",
        "              .collect()\n",
        "\n",
        "end = time.time() - before"
      ],
      "metadata": {
        "id": "rkucxxwV0SlP"
      },
      "execution_count": null,
      "outputs": []
    },
    {
      "cell_type": "code",
      "source": [
        "plot_pts.append((relative_thresh, end, len(freq_set)))"
      ],
      "metadata": {
        "id": "_8ZR7Hvj083N"
      },
      "execution_count": null,
      "outputs": []
    },
    {
      "cell_type": "code",
      "source": [
        "relative_thresh = 0.50\n",
        "support = relative_thresh*num_rows\n",
        "\n",
        "before = time.time()\n",
        "\n",
        "freq_set = apriori(parallelized_data, support) \\\n",
        "              .map(lambda x: (index_to_token(x[0]),x[1])) \\\n",
        "              .collect()\n",
        "\n",
        "end = time.time() - before"
      ],
      "metadata": {
        "id": "4VwogZ4j0UAX"
      },
      "execution_count": null,
      "outputs": []
    },
    {
      "cell_type": "code",
      "source": [
        "plot_pts.append((relative_thresh, end, len(freq_set)))"
      ],
      "metadata": {
        "id": "ewoLoGkN09iU"
      },
      "execution_count": null,
      "outputs": []
    },
    {
      "cell_type": "code",
      "source": [
        "X,Y,Z = [list(element) for element in zip(*plot_pts)]"
      ],
      "metadata": {
        "id": "eSw_lEYhyqih"
      },
      "execution_count": null,
      "outputs": []
    },
    {
      "cell_type": "markdown",
      "source": [
        "It's rather easy to see that as the threshold become smaller the execution time become smaller and the length of the frequent set is also smaller"
      ],
      "metadata": {
        "id": "n3QYn36u6SEu"
      }
    },
    {
      "cell_type": "code",
      "source": [
        "import matplotlib.pyplot as plt\n",
        "\n",
        "fig = plt.figure(figsize=(5,5))\n",
        "ax = fig.add_subplot(projection='3d')\n",
        "ax.set_box_aspect(aspect=None, zoom=0.8)\n",
        "ax.scatter(X, Y, Z, marker='o')\n",
        "\n",
        "ax.set_xlabel('Support')\n",
        "ax.set_ylabel('End time')\n",
        "ax.set_zlabel('Len freq set')\n",
        "\n",
        "plt.show()"
      ],
      "metadata": {
        "colab": {
          "base_uri": "https://localhost:8080/",
          "height": 422
        },
        "id": "vFe9f8ns1yYv",
        "outputId": "0b19fd35-966c-4423-cbbe-b90149eab190"
      },
      "execution_count": null,
      "outputs": [
        {
          "output_type": "display_data",
          "data": {
            "text/plain": [
              "<Figure size 500x500 with 1 Axes>"
            ],
            "image/png": "[encoded data removed]"
          },
          "metadata": {}
        }
      ]
    },
    {
      "cell_type": "markdown",
      "source": [
        "I tried to run this code on a databricks instance (community edition) with 1 million and a half rows and a support threshold of 0.05 and i got a result in 4004.699 seconds (1 hour more or less). The execution can be seen here:\n",
        "[databricks](https://databricks-prod-cloudfront.cloud.databricks.com/public/4027ec902e239c93eaaa8714f173bcfc/244627535523224/1264176681575531/2211219488226131/latest.html)"
      ],
      "metadata": {
        "id": "DNsAKDmg2AVT"
      }
    }
  ],
  "metadata": {
    "colab": {
      "provenance": [],
      "authorship_tag": "ABX9TyNUmfZRqxgi0dI+MeV8ihPr",
      "include_colab_link": true
    },
    "kernelspec": {
      "display_name": "Python 3",
      "name": "python3"
    },
    "language_info": {
      "name": "python"
    }
  },
  "nbformat": 4,
  "nbformat_minor": 0
}