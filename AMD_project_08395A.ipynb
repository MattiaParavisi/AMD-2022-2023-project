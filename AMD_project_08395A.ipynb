{
  "cells": [
    {
      "cell_type": "markdown",
      "metadata": {
        "id": "view-in-github",
        "colab_type": "text"
      },
      "source": [
        "<a href=\"https://colab.research.google.com/github/MattiaParavisi/AMD-2022-2023-project/blob/master/AMD_project_08395A.ipynb\" target=\"_parent\"><img src=\"https://colab.research.google.com/assets/colab-badge.svg\" alt=\"Open In Colab\"/></a>"
      ]
    },
    {
      "cell_type": "markdown",
      "metadata": {
        "id": "31UhCw4g7Uum"
      },
      "source": [
        "# Market Basket Analysis"
      ]
    },
    {
      "cell_type": "markdown",
      "metadata": {
        "id": "DgDtMB6l4o4I"
      },
      "source": [
        "In this first phase i just install pyspark and set up the spark context. There are no modifications to be done to execute the code."
      ]
    },
    {
      "cell_type": "code",
      "execution_count": 1,
      "metadata": {
        "colab": {
          "base_uri": "https://localhost:8080/"
        },
        "id": "9R2OpPZI3fAF",
        "outputId": "9d5a04d9-4855-4ae8-b85c-03c44b5dad9e"
      },
      "outputs": [
        {
          "output_type": "stream",
          "name": "stdout",
          "text": [
            "Looking in indexes: https://pypi.org/simple, https://us-python.pkg.dev/colab-wheels/public/simple/\n",
            "Collecting pyspark\n",
            "  Downloading pyspark-3.4.0.tar.gz (310.8 MB)\n",
            "\u001b[2K     \u001b[90m━━━━━━━━━━━━━━━━━━━━━━━━━━━━━━━━━━━━━━━\u001b[0m \u001b[32m310.8/310.8 MB\u001b[0m \u001b[31m4.7 MB/s\u001b[0m eta \u001b[36m0:00:00\u001b[0m\n",
            "\u001b[?25h  Preparing metadata (setup.py) ... \u001b[?25l\u001b[?25hdone\n",
            "Requirement already satisfied: py4j==0.10.9.7 in /usr/local/lib/python3.10/dist-packages (from pyspark) (0.10.9.7)\n",
            "Building wheels for collected packages: pyspark\n",
            "  Building wheel for pyspark (setup.py) ... \u001b[?25l\u001b[?25hdone\n",
            "  Created wheel for pyspark: filename=pyspark-3.4.0-py2.py3-none-any.whl size=311317130 sha256=9469ac520d2bfddb6dc67446a997cbb7aa32c6b21a8763d5523eb84c35392e58\n",
            "  Stored in directory: /root/.cache/pip/wheels/7b/1b/4b/3363a1d04368e7ff0d408e57ff57966fcdf00583774e761327\n",
            "Successfully built pyspark\n",
            "Installing collected packages: pyspark\n",
            "Successfully installed pyspark-3.4.0\n"
          ]
        }
      ],
      "source": [
        "!pip install pyspark\n",
        "import pyspark\n",
        "from pyspark.sql import SparkSession\n",
        "\n",
        "spark = SparkSession.builder.getOrCreate()\n",
        "sc = spark.sparkContext"
      ]
    },
    {
      "cell_type": "markdown",
      "metadata": {
        "id": "Jagkszdq5OdM"
      },
      "source": [
        "I proceed with the kaggle-api installation. In this phase is required to upload a .json file with kaggle username and password. After the upload phase the dataset required by the project will be automatically downloaded."
      ]
    },
    {
      "cell_type": "code",
      "execution_count": 2,
      "metadata": {
        "id": "aJTHfabd5IX6",
        "colab": {
          "base_uri": "https://localhost:8080/",
          "height": 125
        },
        "outputId": "54aaadf6-9bc2-489e-92c4-f9afe17dca4e"
      },
      "outputs": [
        {
          "output_type": "display_data",
          "data": {
            "text/plain": [
              "<IPython.core.display.HTML object>"
            ],
            "text/html": [
              "\n",
              "     <input type=\"file\" id=\"files-5a9a2a6f-80a9-4686-a223-afcb41ac612a\" name=\"files[]\" multiple disabled\n",
              "        style=\"border:none\" />\n",
              "     <output id=\"result-5a9a2a6f-80a9-4686-a223-afcb41ac612a\">\n",
              "      Upload widget is only available when the cell has been executed in the\n",
              "      current browser session. Please rerun this cell to enable.\n",
              "      </output>\n",
              "      <script>// Copyright 2017 Google LLC\n",
              "//\n",
              "// Licensed under the Apache License, Version 2.0 (the \"License\");\n",
              "// you may not use this file except in compliance with the License.\n",
              "// You may obtain a copy of the License at\n",
              "//\n",
              "//      http://www.apache.org/licenses/LICENSE-2.0\n",
              "//\n",
              "// Unless required by applicable law or agreed to in writing, software\n",
              "// distributed under the License is distributed on an \"AS IS\" BASIS,\n",
              "// WITHOUT WARRANTIES OR CONDITIONS OF ANY KIND, either express or implied.\n",
              "// See the License for the specific language governing permissions and\n",
              "// limitations under the License.\n",
              "\n",
              "/**\n",
              " * @fileoverview Helpers for google.colab Python module.\n",
              " */\n",
              "(function(scope) {\n",
              "function span(text, styleAttributes = {}) {\n",
              "  const element = document.createElement('span');\n",
              "  element.textContent = text;\n",
              "  for (const key of Object.keys(styleAttributes)) {\n",
              "    element.style[key] = styleAttributes[key];\n",
              "  }\n",
              "  return element;\n",
              "}\n",
              "\n",
              "// Max number of bytes which will be uploaded at a time.\n",
              "const MAX_PAYLOAD_SIZE = 100 * 1024;\n",
              "\n",
              "function _uploadFiles(inputId, outputId) {\n",
              "  const steps = uploadFilesStep(inputId, outputId);\n",
              "  const outputElement = document.getElementById(outputId);\n",
              "  // Cache steps on the outputElement to make it available for the next call\n",
              "  // to uploadFilesContinue from Python.\n",
              "  outputElement.steps = steps;\n",
              "\n",
              "  return _uploadFilesContinue(outputId);\n",
              "}\n",
              "\n",
              "// This is roughly an async generator (not supported in the browser yet),\n",
              "// where there are multiple asynchronous steps and the Python side is going\n",
              "// to poll for completion of each step.\n",
              "// This uses a Promise to block the python side on completion of each step,\n",
              "// then passes the result of the previous step as the input to the next step.\n",
              "function _uploadFilesContinue(outputId) {\n",
              "  const outputElement = document.getElementById(outputId);\n",
              "  const steps = outputElement.steps;\n",
              "\n",
              "  const next = steps.next(outputElement.lastPromiseValue);\n",
              "  return Promise.resolve(next.value.promise).then((value) => {\n",
              "    // Cache the last promise value to make it available to the next\n",
              "    // step of the generator.\n",
              "    outputElement.lastPromiseValue = value;\n",
              "    return next.value.response;\n",
              "  });\n",
              "}\n",
              "\n",
              "/**\n",
              " * Generator function which is called between each async step of the upload\n",
              " * process.\n",
              " * @param {string} inputId Element ID of the input file picker element.\n",
              " * @param {string} outputId Element ID of the output display.\n",
              " * @return {!Iterable<!Object>} Iterable of next steps.\n",
              " */\n",
              "function* uploadFilesStep(inputId, outputId) {\n",
              "  const inputElement = document.getElementById(inputId);\n",
              "  inputElement.disabled = false;\n",
              "\n",
              "  const outputElement = document.getElementById(outputId);\n",
              "  outputElement.innerHTML = '';\n",
              "\n",
              "  const pickedPromise = new Promise((resolve) => {\n",
              "    inputElement.addEventListener('change', (e) => {\n",
              "      resolve(e.target.files);\n",
              "    });\n",
              "  });\n",
              "\n",
              "  const cancel = document.createElement('button');\n",
              "  inputElement.parentElement.appendChild(cancel);\n",
              "  cancel.textContent = 'Cancel upload';\n",
              "  const cancelPromise = new Promise((resolve) => {\n",
              "    cancel.onclick = () => {\n",
              "      resolve(null);\n",
              "    };\n",
              "  });\n",
              "\n",
              "  // Wait for the user to pick the files.\n",
              "  const files = yield {\n",
              "    promise: Promise.race([pickedPromise, cancelPromise]),\n",
              "    response: {\n",
              "      action: 'starting',\n",
              "    }\n",
              "  };\n",
              "\n",
              "  cancel.remove();\n",
              "\n",
              "  // Disable the input element since further picks are not allowed.\n",
              "  inputElement.disabled = true;\n",
              "\n",
              "  if (!files) {\n",
              "    return {\n",
              "      response: {\n",
              "        action: 'complete',\n",
              "      }\n",
              "    };\n",
              "  }\n",
              "\n",
              "  for (const file of files) {\n",
              "    const li = document.createElement('li');\n",
              "    li.append(span(file.name, {fontWeight: 'bold'}));\n",
              "    li.append(span(\n",
              "        `(${file.type || 'n/a'}) - ${file.size} bytes, ` +\n",
              "        `last modified: ${\n",
              "            file.lastModifiedDate ? file.lastModifiedDate.toLocaleDateString() :\n",
              "                                    'n/a'} - `));\n",
              "    const percent = span('0% done');\n",
              "    li.appendChild(percent);\n",
              "\n",
              "    outputElement.appendChild(li);\n",
              "\n",
              "    const fileDataPromise = new Promise((resolve) => {\n",
              "      const reader = new FileReader();\n",
              "      reader.onload = (e) => {\n",
              "        resolve(e.target.result);\n",
              "      };\n",
              "      reader.readAsArrayBuffer(file);\n",
              "    });\n",
              "    // Wait for the data to be ready.\n",
              "    let fileData = yield {\n",
              "      promise: fileDataPromise,\n",
              "      response: {\n",
              "        action: 'continue',\n",
              "      }\n",
              "    };\n",
              "\n",
              "    // Use a chunked sending to avoid message size limits. See b/62115660.\n",
              "    let position = 0;\n",
              "    do {\n",
              "      const length = Math.min(fileData.byteLength - position, MAX_PAYLOAD_SIZE);\n",
              "      const chunk = new Uint8Array(fileData, position, length);\n",
              "      position += length;\n",
              "\n",
              "      const base64 = btoa(String.fromCharCode.apply(null, chunk));\n",
              "      yield {\n",
              "        response: {\n",
              "          action: 'append',\n",
              "          file: file.name,\n",
              "          data: base64,\n",
              "        },\n",
              "      };\n",
              "\n",
              "      let percentDone = fileData.byteLength === 0 ?\n",
              "          100 :\n",
              "          Math.round((position / fileData.byteLength) * 100);\n",
              "      percent.textContent = `${percentDone}% done`;\n",
              "\n",
              "    } while (position < fileData.byteLength);\n",
              "  }\n",
              "\n",
              "  // All done.\n",
              "  yield {\n",
              "    response: {\n",
              "      action: 'complete',\n",
              "    }\n",
              "  };\n",
              "}\n",
              "\n",
              "scope.google = scope.google || {};\n",
              "scope.google.colab = scope.google.colab || {};\n",
              "scope.google.colab._files = {\n",
              "  _uploadFiles,\n",
              "  _uploadFilesContinue,\n",
              "};\n",
              "})(self);\n",
              "</script> "
            ]
          },
          "metadata": {}
        },
        {
          "output_type": "stream",
          "name": "stdout",
          "text": [
            "Saving kaggle.json to kaggle.json\n",
            "Downloading yelp_academic_dataset_review.json.zip to /content\n",
            " 99% 2.06G/2.07G [00:24<00:00, 116MB/s]\n",
            "100% 2.07G/2.07G [00:24<00:00, 90.1MB/s]\n"
          ]
        }
      ],
      "source": [
        "!pip install -q kaggle\n",
        "from google.colab import files\n",
        "files.upload()\n",
        "! mkdir ~/.kaggle\n",
        "! cp kaggle.json ~/.kaggle\n",
        "! chmod 600 ~/.kaggle/kaggle.json\n",
        "! kaggle datasets download -d yelp-dataset/yelp-dataset -f yelp_academic_dataset_review.json"
      ]
    },
    {
      "cell_type": "markdown",
      "metadata": {
        "id": "KOq-BlSq6C3r"
      },
      "source": [
        "The dataset is a .zip format, i need to uncompress it in order to make it usable. I remove the zipped file only to save space."
      ]
    },
    {
      "cell_type": "code",
      "execution_count": 3,
      "metadata": {
        "id": "hM9nn6Ni6OS1",
        "colab": {
          "base_uri": "https://localhost:8080/"
        },
        "outputId": "d4bdfda0-6e05-4c8d-a375-b2684ecf4dc1"
      },
      "outputs": [
        {
          "output_type": "stream",
          "name": "stdout",
          "text": [
            "Archive:  /content/yelp_academic_dataset_review.json.zip\n",
            "  inflating: yelp_academic_dataset_review.json  \n"
          ]
        }
      ],
      "source": [
        "!unzip \"/content/yelp_academic_dataset_review.json\" && rm *.zip"
      ]
    },
    {
      "cell_type": "markdown",
      "metadata": {
        "id": "lMNItky66xEv"
      },
      "source": [
        "# Data analysis"
      ]
    },
    {
      "cell_type": "markdown",
      "metadata": {
        "id": "XIxY236J63U0"
      },
      "source": [
        "I can now read the json file using the spark's apis. The loading is pretty slow; this is due to the size of the file. I print also the number of rows in the dataframe obtained after the loading phase. This numer is the **number of baskets** in the market basket analysis framework. The number of baskets is pretty high: almost 7 millions."
      ]
    },
    {
      "cell_type": "code",
      "execution_count": 4,
      "metadata": {
        "id": "3yf3bmOO6vYe",
        "colab": {
          "base_uri": "https://localhost:8080/"
        },
        "outputId": "ac85e11a-9ca4-466c-a082-cddcae1408f3"
      },
      "outputs": [
        {
          "output_type": "stream",
          "name": "stdout",
          "text": [
            "6990280\n"
          ]
        }
      ],
      "source": [
        "data_loader = spark.read.json(\"yelp_academic_dataset_review.json\")\n",
        "\n",
        "n_baskets = data_loader.count()\n",
        "\n",
        "print(n_baskets)"
      ]
    },
    {
      "cell_type": "markdown",
      "metadata": {
        "id": "J8zLh_ON82gD"
      },
      "source": [
        "The schema is the following, the field i need is the field \"text\" which is of type string. I can first of all try to have an idea of this field: the structure, the length and so on..."
      ]
    },
    {
      "cell_type": "code",
      "execution_count": 5,
      "metadata": {
        "id": "RVPT4gQd7ky0",
        "colab": {
          "base_uri": "https://localhost:8080/"
        },
        "outputId": "6f0c95a5-ce7c-4aea-ffaa-bc82616a269b"
      },
      "outputs": [
        {
          "output_type": "stream",
          "name": "stdout",
          "text": [
            "root\n",
            " |-- business_id: string (nullable = true)\n",
            " |-- cool: long (nullable = true)\n",
            " |-- date: string (nullable = true)\n",
            " |-- funny: long (nullable = true)\n",
            " |-- review_id: string (nullable = true)\n",
            " |-- stars: double (nullable = true)\n",
            " |-- text: string (nullable = true)\n",
            " |-- useful: long (nullable = true)\n",
            " |-- user_id: string (nullable = true)\n",
            "\n"
          ]
        }
      ],
      "source": [
        "data_loader.printSchema()"
      ]
    },
    {
      "cell_type": "code",
      "execution_count": 6,
      "metadata": {
        "id": "63MdbIsg9Wor",
        "colab": {
          "base_uri": "https://localhost:8080/",
          "height": 70
        },
        "outputId": "a9ba53d1-4223-48a2-aa12-b945b162cb66"
      },
      "outputs": [
        {
          "output_type": "execute_result",
          "data": {
            "text/plain": [
              "\"If you decide to eat here, just be aware it is going to take about 2 hours from beginning to end. We have tried it multiple times, because I want to like it! I have been to it's other locations in NJ and never had a bad experience. \\n\\nThe food is good, but it takes a very long time to come out. The waitstaff is very young, but usually pleasant. We have just had too many experiences where we spent way too long waiting. We usually opt for another diner or restaurant on the weekends, in order to be done quicker.\""
            ],
            "application/vnd.google.colaboratory.intrinsic+json": {
              "type": "string"
            }
          },
          "metadata": {},
          "execution_count": 6
        }
      ],
      "source": [
        "data_loader.select(\"text\").first()[\"text\"]"
      ]
    },
    {
      "cell_type": "markdown",
      "metadata": {
        "id": "mp0PODYD_s4k"
      },
      "source": [
        "To check if there are some rows which are null on value \"text\" i performed a count on that field; the COUNT() documentation specifies that only non null entries will be counted."
      ]
    },
    {
      "cell_type": "code",
      "execution_count": 7,
      "metadata": {
        "id": "AJJb1vQ59l9C",
        "colab": {
          "base_uri": "https://localhost:8080/"
        },
        "outputId": "bf301817-8623-4368-edec-65e11324e6a7"
      },
      "outputs": [
        {
          "output_type": "stream",
          "name": "stdout",
          "text": [
            "+-----------+\n",
            "|count(text)|\n",
            "+-----------+\n",
            "|    6990280|\n",
            "+-----------+\n",
            "\n"
          ]
        }
      ],
      "source": [
        "data_loader.createOrReplaceTempView(\"table_text\")\n",
        "not_null_text = spark.sql(\"SELECT COUNT(`table_text`.`text`) FROM `table_text`\")\n",
        "not_null_text.show()"
      ]
    },
    {
      "cell_type": "markdown",
      "metadata": {
        "id": "mI7Qy-AUBo_V"
      },
      "source": [
        "From the snippet above it's clear that the number of non-null entries is the same of the total number of rows; each row is non-null. I then computed the average length of the field, which is more or less 568 characters (not a big number but not so small on average, a tweet for example was 144 characters long)."
      ]
    },
    {
      "cell_type": "code",
      "execution_count": 8,
      "metadata": {
        "id": "5a3EPc46AIPy",
        "colab": {
          "base_uri": "https://localhost:8080/"
        },
        "outputId": "faf55848-4e83-406e-e9fa-6d07b7de3d70"
      },
      "outputs": [
        {
          "output_type": "stream",
          "name": "stdout",
          "text": [
            "+-----------------+\n",
            "|          avg_len|\n",
            "+-----------------+\n",
            "|567.7644364746477|\n",
            "+-----------------+\n",
            "\n"
          ]
        }
      ],
      "source": [
        "data_loader.createOrReplaceTempView(\"table_text\")\n",
        "avg_text_len = spark.sql(\"SELECT AVG(CHAR_LENGTH(`table_text`.`text`)) AS avg_len FROM `table_text`\")\n",
        "avg_text_len.show()"
      ]
    },
    {
      "cell_type": "markdown",
      "metadata": {
        "id": "dSr9gRJ5CkhP"
      },
      "source": [
        "Now that i have an idea of the size of the problem i want to do a more appropriate analysis on the number of items in the basket. In my case i will consider \"item\" a single word, in order to split the text field in words i could have used a regular expression, the split() method... all this methods are not so precise in the splitting operation. For this reason i decided to use a tokenizer from the library NTLK (i get this idea from the Information retrieval class), i also downloaded the punktuation set (used in the tokenization phase) and the stopword set for the language i'm considering which is english"
      ]
    },
    {
      "cell_type": "code",
      "execution_count": 9,
      "metadata": {
        "id": "u1Gawg4eakH1",
        "colab": {
          "base_uri": "https://localhost:8080/"
        },
        "outputId": "31e66786-2cbd-4213-fa7c-2059bd171fd5"
      },
      "outputs": [
        {
          "output_type": "stream",
          "name": "stderr",
          "text": [
            "[nltk_data] Downloading package punkt to /root/nltk_data...\n",
            "[nltk_data]   Unzipping tokenizers/punkt.zip.\n",
            "[nltk_data] Downloading package stopwords to /root/nltk_data...\n",
            "[nltk_data]   Unzipping corpora/stopwords.zip.\n"
          ]
        }
      ],
      "source": [
        "import nltk\n",
        "from nltk.corpus import stopwords\n",
        "from nltk.tokenize import word_tokenize\n",
        "nltk.download('punkt')\n",
        "nltk.download('stopwords')\n",
        "stop_words = set(stopwords.words(\"english\"))"
      ]
    },
    {
      "cell_type": "markdown",
      "metadata": {
        "id": "IhhkaIUzEJGa"
      },
      "source": [
        "I decided to create a function to tokenize a given text. In this case i return each token which is alphabetic and not in the stop words set. This decision is driven by the fact that including stop words in the basket items could lead to the definition of rules which have no relevance: stop words are words which are very frequent in the language, i expect those word to be in almost all the baskets. I return list(set(...)) because i just need to know if two words are in the same basket, i dont care about the number of times which this happen in a single basket."
      ]
    },
    {
      "cell_type": "code",
      "execution_count": 10,
      "metadata": {
        "id": "c-8MeH_mgcp3"
      },
      "outputs": [],
      "source": [
        "def tokenize(text):\n",
        "  return list(set([x.strip().lower() for x in word_tokenize(text) if (x.strip().lower().isalpha()) and (x.strip().lower() not in stop_words)]))"
      ]
    },
    {
      "cell_type": "code",
      "execution_count": 11,
      "metadata": {
        "id": "j04kk1vuFKUl",
        "colab": {
          "base_uri": "https://localhost:8080/"
        },
        "outputId": "3f39f923-81d5-4c9a-90b5-ca627bc67df1"
      },
      "outputs": [
        {
          "output_type": "stream",
          "name": "stdout",
          "text": [
            "['another', 'locations', 'time', 'like', 'order', 'eat', 'tried', 'restaurant', 'pleasant', 'bad', 'end', 'going', 'decide', 'opt', 'takes', 'many', 'nj', 'food', 'experience', 'waiting', 'never', 'come', 'multiple', 'times', 'diner', 'quicker', 'young', 'way', 'take', 'aware', 'waitstaff', 'long', 'good', 'done', 'want', 'hours', 'spent', 'beginning', 'usually', 'weekends', 'experiences']\n"
          ]
        }
      ],
      "source": [
        "print(tokenize(data_loader.select(\"text\").first()[\"text\"]))"
      ]
    },
    {
      "cell_type": "markdown",
      "metadata": {
        "id": "qQ2GYECJFwE8"
      },
      "source": [
        "For a first try i decided to get $7 \\cdot 10^5$ baskets. I decided to do this without \"cheating\" using the sample method. This method return a sample of the full dataframe with a given including-rate. I have to transform the dataframe in a RDD to start working in a (simulated) distributed fashion. For each of the sampled rows in the resulting dataframe i apply the tokenization function and keep only the rows with at least 2 words; i have considered \"degenerate\" reviews reviews like \"good\".\n",
        "\n"
      ]
    },
    {
      "cell_type": "code",
      "execution_count": 12,
      "metadata": {
        "id": "WZ8-q6I0aZEW"
      },
      "outputs": [],
      "source": [
        "num_rows = 700000\n",
        "seed = 15101999\n",
        "data_trial = data_loader.\\\n",
        "       select(\"text\").\\\n",
        "       rdd.\\\n",
        "       sample(withReplacement=False,fraction=num_rows/n_baskets,seed=seed).\\\n",
        "       map(lambda row: tokenize(row[\"text\"])).\\\n",
        "       filter(lambda tokenized_row: len(tokenized_row)>1).\\\n",
        "       cache()"
      ]
    },
    {
      "cell_type": "markdown",
      "metadata": {
        "id": "g2ufAAB9H8sq"
      },
      "source": [
        "I obtain an RDD in which each row is defined as a list of words. I can consider each row a basket and each element an item of the basket"
      ]
    },
    {
      "cell_type": "code",
      "execution_count": 13,
      "metadata": {
        "id": "W3BXuIKCHcF6",
        "colab": {
          "base_uri": "https://localhost:8080/"
        },
        "outputId": "d8bc8fd7-a4bd-401b-e392-c3226f61fca0"
      },
      "outputs": [
        {
          "output_type": "stream",
          "name": "stdout",
          "text": [
            "[['something', 'new', 'delicious', 'try', 'changed', 'naan', 'yummy', 'favorite', 'glad', 'minds', 'korma', 'go', 'curry', 'let', 'almost', 'wow', 'lamb', 'kinds', 'outside', 'deter', 'different'], ['milktooth', 'indianapolis', 'glade', 'recommended', 'experience', 'jewel', 'locals', 'chance', 'amazing']]\n"
          ]
        }
      ],
      "source": [
        "print(data_trial.take(2))"
      ]
    },
    {
      "cell_type": "markdown",
      "metadata": {
        "id": "LNMWeO9SIUpt"
      },
      "source": [
        "Now i can define the minimum support (in relative term) i want to consider a singleton/k-tuple frequent. To use the apriori algorithm i have designed i have also to rescale this relative term with respect to the number of rows i have decided to sample, this operation leads me to the definition of the support threshold."
      ]
    },
    {
      "cell_type": "code",
      "execution_count": 14,
      "metadata": {
        "id": "0ufUmvtnd5AP",
        "colab": {
          "base_uri": "https://localhost:8080/"
        },
        "outputId": "c1c87031-df1a-47f6-afdd-baada70f6e20"
      },
      "outputs": [
        {
          "output_type": "stream",
          "name": "stdout",
          "text": [
            "35000.0\n"
          ]
        }
      ],
      "source": [
        "relative_thresh = 0.05\n",
        "support = relative_thresh*num_rows\n",
        "print(support)"
      ]
    },
    {
      "cell_type": "markdown",
      "source": [
        "In this section i describe each support function i will use in the final A-priori implementation. The first one is **item_to_index_funct** function, the name is self explanatory: for each token in a review i assign to it an integer number, this is useful in order to save main memory; indeed Python uses 4 bytes both for single characters and integers, using this method we can avoid to use a lot of RAM. The idea is pretty straight-forward: i define a dictionary in which i will keep the relations \"token -> index\", then for each token i just check if the token is in the dictionary, if not so i add it and assign as value the number of keys currently in the dictionary itself. For example i will have index 0 associated to the first value, then 1 and so on. During the construction of the dictionary i append also the element in the corresponding index to a list. So, for example if the element \"hello\" maps to the integer 0, i will append to the empty list the element \"hello\", by doing so, given 0, i can just retrieve in O(1) the element."
      ],
      "metadata": {
        "id": "n002-SuBlLsB"
      }
    },
    {
      "cell_type": "code",
      "source": [
        "item_to_index = {}\n",
        "index_to_item = []\n",
        "\n",
        "def item_to_index_funct(item):\n",
        "  if item not in item_to_index:\n",
        "    item_to_index[item] = len(item_to_index.keys())\n",
        "    index_to_item.append(item)\n",
        "  return item_to_index[item]"
      ],
      "metadata": {
        "id": "D6joc15FlEeN"
      },
      "execution_count": 15,
      "outputs": []
    },
    {
      "cell_type": "markdown",
      "source": [
        "The function index_to_token is the opposite of token_to_index. This function take a single index or a set of index and return the corresponding token/tokens. This function simply access to an array to get back the token."
      ],
      "metadata": {
        "id": "QWTcGP6n-bZU"
      }
    },
    {
      "cell_type": "code",
      "source": [
        "def index_to_item_funct(val):\n",
        "  res = []\n",
        "  if type(val) == int:\n",
        "        return index_to_item[val]\n",
        "  for sub_el in val:\n",
        "        res.append(index_to_item[sub_el])\n",
        "  return tuple(res)"
      ],
      "metadata": {
        "id": "alLBJAq6-XIc"
      },
      "execution_count": 16,
      "outputs": []
    },
    {
      "cell_type": "code",
      "execution_count": 17,
      "metadata": {
        "id": "1iVz6Ku0E29y"
      },
      "outputs": [],
      "source": [
        "from itertools import combinations\n",
        "def apriori(data, support):\n",
        "\n",
        "  frequent_tuples =     data \\\n",
        "                        .flatMap(lambda token: token) \\\n",
        "                        .map(lambda token : (token, 1)) \\\n",
        "                        .reduceByKey(lambda token_a, token_b : token_a + token_b) \\\n",
        "                        .filter(lambda token : token[1] > support) \n",
        "  k = 2\n",
        "  frequent_elems = frequent_tuples.map(lambda token: token[0])\n",
        "\n",
        "  while not frequent_elems.isEmpty():\n",
        "    collected_freq_elems = sc.broadcast(frequent_elems.collect())\n",
        "    \n",
        "    if k == 2:\n",
        "      data = spark.sparkContext.parallelize(data \\\n",
        "              .map(lambda indexed_element: [el[0] for el in combinations(indexed_element, k-1) if el[0] in collected_freq_elems.value])\\\n",
        "              .filter(lambda x: len(x) > k).collect())\n",
        "      frequent_k_tuples = data \\\n",
        "              .flatMap(lambda indexed_element: [el for el in combinations(indexed_element, k) if set(el).issubset(set(collected_freq_elems.value))]) \\\n",
        "              .map(lambda token : (token, 1)) \\\n",
        "              .reduceByKey(lambda token_a, token_b : token_a + token_b) \\\n",
        "              .filter(lambda token : token[1] > support)\n",
        "    else:\n",
        "      data = spark.sparkContext.parallelize(data \\\n",
        "              .map(lambda indexed_element: list(set([sub_el for el in combinations(indexed_element, k-1) if el in collected_freq_elems.value for sub_el in el])))\\\n",
        "              .filter(lambda x: len(x) > k).collect())\n",
        "      frequent_k_tuples = data \\\n",
        "              .flatMap(lambda indexed_element: [el for el in combinations(indexed_element, k) if all(sub_el in collected_freq_elems.value for sub_el in combinations(el,k-1))])\\\n",
        "              .map(lambda token : (token, 1)) \\\n",
        "              .reduceByKey(lambda token_a, token_b : token_a + token_b) \\\n",
        "              .filter(lambda token : token[1] > support)\n",
        "\n",
        "    frequent_tuples = frequent_tuples.union(frequent_k_tuples)\n",
        "    frequent_elems = frequent_k_tuples.map(lambda token: token[0])\n",
        "    k = k+1\n",
        "  \n",
        "  return frequent_tuples"
      ]
    },
    {
      "cell_type": "markdown",
      "source": [
        "I then collect all the data using spark primitives and map all the tokens to their corresponding index, i parallelize data to re-obtain an rdd. I had to do this additional steps because using directly .map(lambda x : token_to_index(x)) does not create the dictionary of associations between tokens and indexes and because i had to sample the data with the number of points i have decided above."
      ],
      "metadata": {
        "id": "yzc7FzLGiCwz"
      }
    },
    {
      "cell_type": "code",
      "execution_count": 18,
      "metadata": {
        "id": "xJiQD5vJCi1G"
      },
      "outputs": [],
      "source": [
        "collected_data = data_trial.collect()"
      ]
    },
    {
      "cell_type": "code",
      "source": [
        "collected_data = [[item_to_index_funct(token) for token in review] for review in collected_data]"
      ],
      "metadata": {
        "id": "JWzpFzgRy29y"
      },
      "execution_count": 19,
      "outputs": []
    },
    {
      "cell_type": "code",
      "execution_count": 20,
      "metadata": {
        "id": "UXTSoM21CaEz"
      },
      "outputs": [],
      "source": [
        "parallelized_data = spark.sparkContext.parallelize(collected_data)"
      ]
    },
    {
      "cell_type": "markdown",
      "source": [
        "# Execution of apriori algorithm with different thresholdes"
      ],
      "metadata": {
        "id": "Mlah_Dqo0X6U"
      }
    },
    {
      "cell_type": "markdown",
      "source": [
        "Let's consider for example the execution of the algorithm using the parameters we had setted up until this point:\n",
        "1.   Number of rows (baskets) = $7 \\cdot 10^5$\n",
        "2.   Relative threshold $0.05$\n",
        "in this case i will consider frequent elements all the elements appearing in at least $35.000$ baskets.\n",
        "\n",
        "\n"
      ],
      "metadata": {
        "id": "FcEvQK-MjN5q"
      }
    },
    {
      "cell_type": "code",
      "source": [
        "plot_pts = []\n",
        "scale_up_plot_pts = []"
      ],
      "metadata": {
        "id": "-pYQ6wYf0iUx"
      },
      "execution_count": 21,
      "outputs": []
    },
    {
      "cell_type": "markdown",
      "source": [
        "I take trace of the time the algorithm requires in order to be executed. I will also save the time, the threshold and the number of elements found to make a comparison at the end of the process."
      ],
      "metadata": {
        "id": "24YlsxvCmW77"
      }
    },
    {
      "cell_type": "code",
      "execution_count": 22,
      "metadata": {
        "id": "DX11Gpl--Wa7"
      },
      "outputs": [],
      "source": [
        "import time\n",
        "\n",
        "before = time.time()\n",
        "\n",
        "freq_set_min_thresh = apriori(parallelized_data, support) \\\n",
        "              .map(lambda x: (index_to_item_funct(x[0]),x[1])) \\\n",
        "              .collect()\n",
        "\n",
        "end = time.time() - before"
      ]
    },
    {
      "cell_type": "markdown",
      "source": [
        "The algorithm is able to find sensible elements. For example (the result may change one execution to the other if the seed changes) the algorithm found:\n",
        "\n",
        "\n",
        "1.   food, good\n",
        "2.   great, service\n",
        "3.   ...\n",
        "\n",
        "those results are pretty good, they are related to the topic of the dataset and are consistent: in a review i expect to find sentences like \"the food was good\" or \"the food was not good\" moreover i expect to find some comments about the service in a specific resturant \n",
        "\n",
        "\n"
      ],
      "metadata": {
        "id": "47TXttbAm8Wt"
      }
    },
    {
      "cell_type": "code",
      "source": [
        "print(sorted(freq_set_min_thresh, key = lambda x: len(x[0]) if type(x[0]) == tuple else 1, reverse=True))"
      ],
      "metadata": {
        "id": "eJ5WUKJXREsZ",
        "colab": {
          "base_uri": "https://localhost:8080/"
        },
        "outputId": "ce6581d6-c1bc-45f2-ede1-cb7f5d6dd701"
      },
      "execution_count": 23,
      "outputs": [
        {
          "output_type": "stream",
          "name": "stdout",
          "text": [
            "[(('food', 'good'), 91486), (('friendly', 'food'), 36394), (('food', 'service'), 57137), (('food', 'great'), 57469), (('service', 'great'), 54280), (('one', 'would'), 51091), (('one', 'good'), 57391), (('would', 'good'), 59819), (('could', 'good'), 37294), (('got', 'good'), 41540), (('get', 'like'), 52246), (('get', 'time'), 53920), (('good', 'great'), 55118), (('back', 'get'), 47351), (('back', 'go'), 51350), (('back', 'time'), 54172), (('get', 'go'), 44770), (('back', 'also'), 35778), (('get', 'also'), 38188), (('one', 'service'), 44538), (('got', 'would'), 35540), (('place', 'go'), 55809), (('place', 'time'), 37663), (('delicious', 'food'), 43725), (('back', 'like'), 47264), (('like', 'also'), 40216), (('could', 'would'), 41213), (('could', 'one'), 36346), (('place', 'back'), 38285), (('place', 'get'), 36309), (('place', 'nice'), 40961), (('place', 'like'), 40821), (('get', 'even'), 35333), (('food', 'would'), 55207), (('really', 'would'), 37243), (('really', 'good'), 58679), (('good', 'service'), 50980), (('service', 'food'), 35562), (('great', 'food'), 35437), (('could', 'food'), 36801), (('back', 'great'), 53048), (('food', 'go'), 51110), (('food', 'time'), 39667), (('great', 'time'), 54596), (('one', 'like'), 52066), (('like', 'good'), 44421), (('place', 'would'), 58765), (('place', 'good'), 88311), (('place', 'food'), 95341), (('could', 'get'), 36305), (('could', 'time'), 35396), (('got', 'time'), 36140), (('nice', 'good'), 40347), (('get', 'good'), 58983), (('get', 'great'), 48877), (('good', 'time'), 36527), (('one', 'go'), 43180), (('one', 'time'), 52380), (('food', 'like'), 35664), (('food', 'nice'), 39161), (('go', 'good'), 53597), (('little', 'good'), 35443), (('back', 'service'), 50065), (('back', 'would'), 52231), (('back', 'good'), 58792), (('get', 'service'), 44969), (('get', 'would'), 50531), (('one', 'also'), 38603), (('go', 'would'), 45839), (('place', 'staff'), 35537), (('place', 'service'), 43692), (('place', 'great'), 65360), (('like', 'service'), 43421), (('food', 'back'), 37979), (('really', 'like'), 44016), (('back', 'definitely'), 35372), ('something', 46015), ('delicious', 87976), ('different', 38183), ('night', 52779), ('friendly', 96686), ('staff', 99346), ('great', 224168), ('lot', 45523), ('cheese', 47816), ('food', 244955), ('ca', 51113), ('tried', 44274), ('good', 225619), ('price', 43793), ('chicken', 63028), ('bar', 52888), ('love', 83770), ('service', 190152), ('never', 82703), ('work', 46105), ('pretty', 57848), ('one', 155281), ('definitely', 85082), ('bit', 42984), ('away', 36433), ('minutes', 47133), ('recommend', 73562), ('much', 73887), ('enough', 38163), ('would', 156894), ('dinner', 42775), ('sure', 57165), ('could', 99391), ('got', 104485), ('worth', 42723), ('really', 120688), ('came', 81962), ('want', 56345), ('made', 72966), ('last', 45365), ('left', 35590), ('say', 56107), ('fresh', 55561), ('said', 55900), ('need', 39566), ('everything', 61912), ('eat', 51033), ('make', 71220), ('home', 42575), ('lunch', 41920), ('highly', 36673), ('wanted', 39938), ('day', 61944), ('feel', 38974), ('happy', 39816), ('took', 52854), ('drinks', 42234), ('atmosphere', 40706), ('new', 71682), ('try', 81172), ('favorite', 42971), ('go', 141748), ('experience', 75931), ('amazing', 75829), ('another', 49133), ('super', 43074), ('like', 156970), ('best', 104708), ('way', 63886), ('location', 43529), ('salad', 38340), ('back', 162685), ('well', 96054), ('bad', 44894), ('ever', 62763), ('times', 51866), ('also', 120652), ('even', 100598), ('every', 51949), ('right', 60322), ('order', 80074), ('time', 167145), ('think', 50672), ('restaurant', 77416), ('awesome', 42359), ('know', 62537), ('side', 39490), ('wait', 62988), ('prices', 37944), ('small', 46709), ('ordered', 86049), ('went', 82705), ('visit', 38691), ('see', 51978), ('going', 65882), ('place', 228988), ('meal', 44300), ('many', 49251), ('hot', 37846), ('table', 44148), ('us', 86857), ('first', 85205), ('nice', 100405), ('get', 156104), ('years', 37487), ('two', 62324), ('around', 55675), ('people', 72937), ('still', 55551), ('since', 48585), ('little', 78057), ('things', 36595), ('give', 52917), ('asked', 44565), ('come', 75064), ('better', 63212), ('area', 55551), ('always', 81465), ('find', 46433), ('big', 35546), ('excellent', 43879), ('next', 52259), ('told', 45617), ('menu', 68456), ('though', 42378), ('long', 44360), ('thing', 38320), ('perfect', 36512), ('nothing', 35596), ('sauce', 43362), ('take', 57831), ('looking', 41439), ('found', 35886), ('clean', 41547), ('customer', 40097)]\n"
          ]
        }
      ]
    },
    {
      "cell_type": "code",
      "source": [
        "print(len(freq_set_min_thresh))"
      ],
      "metadata": {
        "id": "ONyctCUw1IUp",
        "colab": {
          "base_uri": "https://localhost:8080/"
        },
        "outputId": "3f7069f5-573d-4a97-dc3b-217d3c84c3b5"
      },
      "execution_count": 24,
      "outputs": [
        {
          "output_type": "stream",
          "name": "stdout",
          "text": [
            "211\n"
          ]
        }
      ]
    },
    {
      "cell_type": "markdown",
      "source": [
        "I wanted also to check the results of the algorithm with respect to the threshold changes: i expect that when the threshold increases the number of results decreases as the execution time. This is due to the fact that the initial elements we retain will lead to a smaller number of couples, so the overall computation will be faster."
      ],
      "metadata": {
        "id": "Zzlm4mv7zusQ"
      }
    },
    {
      "cell_type": "code",
      "source": [
        "plot_pts.append((relative_thresh, end, len(freq_set_min_thresh)))\n",
        "scale_up_plot_pts.append((num_rows, end))"
      ],
      "metadata": {
        "id": "8V1cUDhm0vGm"
      },
      "execution_count": 25,
      "outputs": []
    },
    {
      "cell_type": "code",
      "source": [
        "relative_thresh = 0.10\n",
        "support = relative_thresh*num_rows\n",
        "\n",
        "before = time.time()\n",
        "\n",
        "second_freq_set = apriori(parallelized_data, support) \\\n",
        "              .map(lambda x: (index_to_item_funct(x[0]),x[1])) \\\n",
        "              .collect()\n",
        "\n",
        "end = time.time() - before"
      ],
      "metadata": {
        "id": "XtDOQ_ArswdF"
      },
      "execution_count": 26,
      "outputs": []
    },
    {
      "cell_type": "markdown",
      "source": [
        "Increasing the threshold by just a 5% we get a reduction in the number of results of the 80%. This confirms what i supposed. The results are still good (they are a subset of the previous results) and they are realted to couples of items which are more frequently taken together; for example, with the threshold equal to 0.05 i found the couple ('great','back') (for example this association can appear in a review like \"the place is great, i will come back\"), with this new threshold this couple is not present. I can then suppose that (based on this dataset) in a number of time that is bewteen $5\\% \\leq x < 10\\%$  of the time if a restaurant is great the costumer will come back. "
      ],
      "metadata": {
        "id": "SCSVgNRO3UpI"
      }
    },
    {
      "cell_type": "code",
      "source": [
        "print(sorted(second_freq_set, key = lambda x: len(x[0]) if type(x[0]) == tuple else 1, reverse=True))"
      ],
      "metadata": {
        "id": "_AP6SZVY1EaJ",
        "colab": {
          "base_uri": "https://localhost:8080/"
        },
        "outputId": "e813cf9b-9e10-474e-8e21-fcda8fc458aa"
      },
      "execution_count": 27,
      "outputs": [
        {
          "output_type": "stream",
          "name": "stdout",
          "text": [
            "[(('food', 'good'), 91343), (('place', 'good'), 87968), (('place', 'food'), 95080), ('delicious', 87976), ('friendly', 96686), ('staff', 99346), ('great', 224168), ('food', 244955), ('good', 225619), ('love', 83770), ('service', 190152), ('never', 82703), ('one', 155281), ('definitely', 85082), ('recommend', 73562), ('much', 73887), ('would', 156894), ('could', 99391), ('got', 104485), ('really', 120688), ('came', 81962), ('made', 72966), ('make', 71220), ('new', 71682), ('try', 81172), ('go', 141748), ('experience', 75931), ('amazing', 75829), ('like', 156970), ('best', 104708), ('back', 162685), ('well', 96054), ('also', 120652), ('even', 100598), ('order', 80074), ('time', 167145), ('restaurant', 77416), ('ordered', 86049), ('went', 82705), ('place', 228988), ('us', 86857), ('first', 85205), ('nice', 100405), ('get', 156104), ('people', 72937), ('little', 78057), ('come', 75064), ('always', 81465)]\n"
          ]
        }
      ]
    },
    {
      "cell_type": "code",
      "source": [
        "print(len(second_freq_set))"
      ],
      "metadata": {
        "id": "SCLTTfyH1MIn",
        "colab": {
          "base_uri": "https://localhost:8080/"
        },
        "outputId": "baf3454a-aa7b-4390-c1b8-e76d986d00fb"
      },
      "execution_count": 28,
      "outputs": [
        {
          "output_type": "stream",
          "name": "stdout",
          "text": [
            "48\n"
          ]
        }
      ]
    },
    {
      "cell_type": "code",
      "source": [
        "plot_pts.append((relative_thresh, end, len(second_freq_set)))"
      ],
      "metadata": {
        "id": "D7v6xKAg03rA"
      },
      "execution_count": 29,
      "outputs": []
    },
    {
      "cell_type": "code",
      "source": [
        "relative_thresh = 0.15\n",
        "support = relative_thresh*num_rows\n",
        "\n",
        "before = time.time()\n",
        "\n",
        "freq_set = apriori(parallelized_data, support) \\\n",
        "              .map(lambda x: (index_to_item_funct(x[0]),x[1])) \\\n",
        "              .collect()\n",
        "\n",
        "end = time.time() - before"
      ],
      "metadata": {
        "id": "H2qPGYgvAPS0"
      },
      "execution_count": 30,
      "outputs": []
    },
    {
      "cell_type": "code",
      "source": [
        "plot_pts.append((relative_thresh, end, len(freq_set)))"
      ],
      "metadata": {
        "id": "EUwByRAP04af"
      },
      "execution_count": 31,
      "outputs": []
    },
    {
      "cell_type": "code",
      "source": [
        "relative_thresh = 0.20\n",
        "support = relative_thresh*num_rows\n",
        "\n",
        "before = time.time()\n",
        "\n",
        "freq_set = apriori(parallelized_data, support) \\\n",
        "              .map(lambda x: (index_to_item_funct(x[0]),x[1])) \\\n",
        "              .collect()\n",
        "\n",
        "end = time.time() - before"
      ],
      "metadata": {
        "id": "X0qYdLuI0MEZ"
      },
      "execution_count": 32,
      "outputs": []
    },
    {
      "cell_type": "code",
      "source": [
        "plot_pts.append((relative_thresh, end, len(freq_set)))"
      ],
      "metadata": {
        "id": "IfB_wtP905G-"
      },
      "execution_count": 33,
      "outputs": []
    },
    {
      "cell_type": "code",
      "source": [
        "relative_thresh = 0.25\n",
        "support = relative_thresh*num_rows\n",
        "\n",
        "before = time.time()\n",
        "\n",
        "freq_set = apriori(parallelized_data, support) \\\n",
        "              .map(lambda x: (index_to_item_funct(x[0]),x[1])) \\\n",
        "              .collect()\n",
        "\n",
        "end = time.time() - before"
      ],
      "metadata": {
        "id": "b2KoNRoo0Not"
      },
      "execution_count": 34,
      "outputs": []
    },
    {
      "cell_type": "code",
      "source": [
        "plot_pts.append((relative_thresh, end, len(freq_set)))"
      ],
      "metadata": {
        "id": "no8DAT4D051w"
      },
      "execution_count": 35,
      "outputs": []
    },
    {
      "cell_type": "code",
      "source": [
        "relative_thresh = 0.30\n",
        "support = relative_thresh*num_rows\n",
        "\n",
        "before = time.time()\n",
        "\n",
        "freq_set = apriori(parallelized_data, support) \\\n",
        "              .map(lambda x: (index_to_item_funct(x[0]),x[1])) \\\n",
        "              .collect()\n",
        "\n",
        "end = time.time() - before"
      ],
      "metadata": {
        "id": "-AF1k4OV0OpZ"
      },
      "execution_count": 36,
      "outputs": []
    },
    {
      "cell_type": "code",
      "source": [
        "plot_pts.append((relative_thresh, end, len(freq_set)))"
      ],
      "metadata": {
        "id": "xSIyMyMQ06tW"
      },
      "execution_count": 37,
      "outputs": []
    },
    {
      "cell_type": "code",
      "source": [
        "relative_thresh = 0.35\n",
        "support = relative_thresh*num_rows\n",
        "\n",
        "before = time.time()\n",
        "\n",
        "freq_set = apriori(parallelized_data, support) \\\n",
        "              .map(lambda x: (index_to_item_funct(x[0]),x[1])) \\\n",
        "              .collect()\n",
        "\n",
        "end = time.time() - before"
      ],
      "metadata": {
        "id": "YWmLcJ7u0PvM"
      },
      "execution_count": 38,
      "outputs": []
    },
    {
      "cell_type": "code",
      "source": [
        "plot_pts.append((relative_thresh, end, len(freq_set)))"
      ],
      "metadata": {
        "id": "EZh24OM207ZN"
      },
      "execution_count": 39,
      "outputs": []
    },
    {
      "cell_type": "code",
      "source": [
        "relative_thresh = 0.40\n",
        "support = relative_thresh*num_rows\n",
        "\n",
        "before = time.time()\n",
        "\n",
        "freq_set = apriori(parallelized_data, support) \\\n",
        "              .map(lambda x: (index_to_item_funct(x[0]),x[1])) \\\n",
        "              .collect()\n",
        "\n",
        "end = time.time() - before"
      ],
      "metadata": {
        "id": "0g8goz-r0RKq"
      },
      "execution_count": 40,
      "outputs": []
    },
    {
      "cell_type": "code",
      "source": [
        "plot_pts.append((relative_thresh, end, len(freq_set)))"
      ],
      "metadata": {
        "id": "T8A6KdhA08BM"
      },
      "execution_count": 41,
      "outputs": []
    },
    {
      "cell_type": "code",
      "source": [
        "relative_thresh = 0.45\n",
        "support = relative_thresh*num_rows\n",
        "\n",
        "before = time.time()\n",
        "\n",
        "freq_set = apriori(parallelized_data, support) \\\n",
        "              .map(lambda x: (index_to_item_funct(x[0]),x[1])) \\\n",
        "              .collect()\n",
        "\n",
        "end = time.time() - before"
      ],
      "metadata": {
        "id": "rkucxxwV0SlP"
      },
      "execution_count": 42,
      "outputs": []
    },
    {
      "cell_type": "code",
      "source": [
        "plot_pts.append((relative_thresh, end, len(freq_set)))"
      ],
      "metadata": {
        "id": "_8ZR7Hvj083N"
      },
      "execution_count": 43,
      "outputs": []
    },
    {
      "cell_type": "code",
      "source": [
        "relative_thresh = 0.50\n",
        "support = relative_thresh*num_rows\n",
        "\n",
        "before = time.time()\n",
        "\n",
        "freq_set = apriori(parallelized_data, support) \\\n",
        "              .map(lambda x: (index_to_item_funct(x[0]),x[1])) \\\n",
        "              .collect()\n",
        "\n",
        "end = time.time() - before"
      ],
      "metadata": {
        "id": "4VwogZ4j0UAX"
      },
      "execution_count": 44,
      "outputs": []
    },
    {
      "cell_type": "code",
      "source": [
        "plot_pts.append((relative_thresh, end, len(freq_set)))"
      ],
      "metadata": {
        "id": "ewoLoGkN09iU"
      },
      "execution_count": 45,
      "outputs": []
    },
    {
      "cell_type": "code",
      "source": [
        "X,Y,Z = [list(element) for element in zip(*plot_pts)]"
      ],
      "metadata": {
        "id": "eSw_lEYhyqih"
      },
      "execution_count": 46,
      "outputs": []
    },
    {
      "cell_type": "markdown",
      "source": [
        "It's rather easy to see that as the threshold become smaller the execution time become smaller and the length of the frequent set is also smaller"
      ],
      "metadata": {
        "id": "n3QYn36u6SEu"
      }
    },
    {
      "cell_type": "code",
      "source": [
        "import matplotlib.pyplot as plt\n",
        "\n",
        "fig = plt.figure(figsize=(5,5))\n",
        "ax = fig.add_subplot(projection='3d')\n",
        "ax.set_box_aspect(aspect=None, zoom=0.8)\n",
        "ax.scatter(X, Y, Z, marker='o')\n",
        "\n",
        "ax.set_xlabel('Support')\n",
        "ax.set_ylabel('End time')\n",
        "ax.set_zlabel('Len freq set')\n",
        "\n",
        "plt.show()"
      ],
      "metadata": {
        "id": "vFe9f8ns1yYv",
        "colab": {
          "base_uri": "https://localhost:8080/",
          "height": 422
        },
        "outputId": "07b5466b-4335-46ee-c5b5-b67844dce5f6"
      },
      "execution_count": 47,
      "outputs": [
        {
          "output_type": "display_data",
          "data": {
            "text/plain": [
              "<Figure size 500x500 with 1 Axes>"
            ],
            "image/png": "[encoded data removed]"
          },
          "metadata": {}
        }
      ]
    },
    {
      "cell_type": "markdown",
      "source": [
        "I tried to run this code on a databricks instance (community edition) with 1 million and a half rows and a support threshold of 0.05 and i got a result in 4004.699 seconds (1 hour more or less). The execution can be seen here:\n",
        "[databricks](https://databricks-prod-cloudfront.cloud.databricks.com/public/4027ec902e239c93eaaa8714f173bcfc/244627535523224/1264176681575531/2211219488226131/latest.html)"
      ],
      "metadata": {
        "id": "DNsAKDmg2AVT"
      }
    },
    {
      "cell_type": "code",
      "source": [
        "relative_thresh = 0.05\n",
        "\n",
        "num_rows = 100000\n",
        "\n",
        "support = relative_thresh*num_rows\n",
        "collected_data_1 = collected_data[0:num_rows]\n",
        "parallelized_data = spark.sparkContext.parallelize(collected_data_1)\n",
        "\n",
        "before = time.time()\n",
        "\n",
        "freq_set_min_thresh = apriori(parallelized_data, support) \\\n",
        "              .map(lambda x: (index_to_item_funct(x[0]),x[1])) \\\n",
        "              .collect()\n",
        "\n",
        "end = time.time() - before\n",
        "\n",
        "scale_up_plot_pts.append((num_rows, end))"
      ],
      "metadata": {
        "id": "-Cc1oof3ASRI"
      },
      "execution_count": 48,
      "outputs": []
    },
    {
      "cell_type": "code",
      "source": [
        "num_rows = 200000\n",
        "\n",
        "support = relative_thresh*num_rows\n",
        "collected_data_2 = collected_data[0:num_rows]\n",
        "parallelized_data = spark.sparkContext.parallelize(collected_data_2)\n",
        "\n",
        "before = time.time()\n",
        "\n",
        "freq_set_min_thresh = apriori(parallelized_data, support) \\\n",
        "              .map(lambda x: (index_to_item_funct(x[0]),x[1])) \\\n",
        "              .collect()\n",
        "\n",
        "end = time.time() - before\n",
        "\n",
        "scale_up_plot_pts.append((num_rows, end))"
      ],
      "metadata": {
        "id": "oa-9stGO0o39"
      },
      "execution_count": 49,
      "outputs": []
    },
    {
      "cell_type": "code",
      "source": [
        "num_rows = 300000\n",
        "\n",
        "support = relative_thresh*num_rows\n",
        "collected_data_3 = collected_data[0:num_rows]\n",
        "parallelized_data = spark.sparkContext.parallelize(collected_data_3)\n",
        "\n",
        "before = time.time()\n",
        "\n",
        "freq_set_min_thresh = apriori(parallelized_data, support) \\\n",
        "              .map(lambda x: (index_to_item_funct(x[0]),x[1])) \\\n",
        "              .collect()\n",
        "\n",
        "end = time.time() - before\n",
        "\n",
        "scale_up_plot_pts.append((num_rows, end))"
      ],
      "metadata": {
        "id": "XjLiUbMl0pv8"
      },
      "execution_count": 50,
      "outputs": []
    },
    {
      "cell_type": "code",
      "source": [
        "num_rows = 400000\n",
        "\n",
        "support = relative_thresh*num_rows\n",
        "collected_data_4 = collected_data[0:num_rows]\n",
        "parallelized_data = spark.sparkContext.parallelize(collected_data_4)\n",
        "\n",
        "before = time.time()\n",
        "\n",
        "freq_set_min_thresh = apriori(parallelized_data, support) \\\n",
        "              .map(lambda x: (index_to_item_funct(x[0]),x[1])) \\\n",
        "              .collect()\n",
        "\n",
        "end = time.time() - before\n",
        "\n",
        "scale_up_plot_pts.append((num_rows, end))"
      ],
      "metadata": {
        "id": "xygTp1b_0qRl"
      },
      "execution_count": 51,
      "outputs": []
    },
    {
      "cell_type": "code",
      "source": [
        "num_rows = 500000\n",
        "\n",
        "support = relative_thresh*num_rows\n",
        "collected_data_5 = collected_data[0:num_rows]\n",
        "parallelized_data = spark.sparkContext.parallelize(collected_data_5)\n",
        "\n",
        "before = time.time()\n",
        "\n",
        "freq_set_min_thresh = apriori(parallelized_data, support) \\\n",
        "              .map(lambda x: (index_to_item_funct(x[0]),x[1])) \\\n",
        "              .collect()\n",
        "\n",
        "end = time.time() - before\n",
        "\n",
        "scale_up_plot_pts.append((num_rows, end))"
      ],
      "metadata": {
        "id": "1RsXVJGL0qvM"
      },
      "execution_count": 52,
      "outputs": []
    },
    {
      "cell_type": "code",
      "source": [
        "num_rows = 600000\n",
        "\n",
        "support = relative_thresh*num_rows\n",
        "collected_data_6 = collected_data[0:num_rows]\n",
        "parallelized_data = spark.sparkContext.parallelize(collected_data_6)\n",
        "\n",
        "before = time.time()\n",
        "\n",
        "freq_set_min_thresh = apriori(parallelized_data, support) \\\n",
        "              .map(lambda x: (index_to_item_funct(x[0]),x[1])) \\\n",
        "              .collect()\n",
        "\n",
        "end = time.time() - before\n",
        "\n",
        "scale_up_plot_pts.append((num_rows, end))"
      ],
      "metadata": {
        "id": "bvr5t-1Q0rLI"
      },
      "execution_count": 53,
      "outputs": []
    },
    {
      "cell_type": "code",
      "source": [
        "X,Y = [list(element) for element in zip(*scale_up_plot_pts)]"
      ],
      "metadata": {
        "id": "bbObcWY_1Nvi"
      },
      "execution_count": 54,
      "outputs": []
    },
    {
      "cell_type": "code",
      "source": [
        "X.append(1000000)\n",
        "X.append(1500000)\n",
        "Y.append(1080)\n",
        "Y.append(1535)"
      ],
      "metadata": {
        "id": "aG1DrWlXtHJf"
      },
      "execution_count": 55,
      "outputs": []
    },
    {
      "cell_type": "code",
      "source": [
        "plt.scatter(X,Y)\n",
        "plt.xlabel(\"ROWS NUMBER\")\n",
        "plt.ylabel(\"COMPUTATIONAL TIME\")\n",
        "plt.show()"
      ],
      "metadata": {
        "id": "IeQAImaKjTyF",
        "colab": {
          "base_uri": "https://localhost:8080/",
          "height": 453
        },
        "outputId": "0f4851d3-81e9-4867-e174-e2d22ee33387"
      },
      "execution_count": 56,
      "outputs": [
        {
          "output_type": "display_data",
          "data": {
            "text/plain": [
              "<Figure size 640x480 with 1 Axes>"
            ],
            "image/png": "[encoded data removed]"
          },
          "metadata": {}
        }
      ]
    },
    {
      "cell_type": "code",
      "source": [],
      "metadata": {
        "id": "v9cwxPyRxCY_"
      },
      "execution_count": 56,
      "outputs": []
    }
  ],
  "metadata": {
    "colab": {
      "provenance": [],
      "authorship_tag": "ABX9TyMDVOE0s+ZwDwM4RviFsdiT",
      "include_colab_link": true
    },
    "kernelspec": {
      "display_name": "Python 3",
      "name": "python3"
    },
    "language_info": {
      "name": "python"
    }
  },
  "nbformat": 4,
  "nbformat_minor": 0
}